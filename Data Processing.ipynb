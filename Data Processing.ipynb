{
 "cells": [
  {
   "cell_type": "code",
   "execution_count": 918,
   "id": "dae1ac5f",
   "metadata": {},
   "outputs": [],
   "source": [
    "MIN_CORR=0.6"
   ]
  },
  {
   "cell_type": "code",
   "execution_count": 919,
   "id": "56f13dd2",
   "metadata": {},
   "outputs": [],
   "source": [
    "import pandas as pd"
   ]
  },
  {
   "cell_type": "code",
   "execution_count": 920,
   "id": "039090f9",
   "metadata": {},
   "outputs": [],
   "source": [
    "import numpy as np"
   ]
  },
  {
   "cell_type": "code",
   "execution_count": 921,
   "id": "3d45d004",
   "metadata": {},
   "outputs": [],
   "source": [
    "data=pd.read_csv(\"train.csv\")"
   ]
  },
  {
   "cell_type": "code",
   "execution_count": 922,
   "id": "4f9fbd5e",
   "metadata": {},
   "outputs": [
    {
     "name": "stdout",
     "output_type": "stream",
     "text": [
      "Main Data has 1460 Records with 81 Attributes\n"
     ]
    }
   ],
   "source": [
    "print (\"Main Data has {} Records with {} Attributes\".format(len(main_data),len(main_data.columns)))"
   ]
  },
  {
   "cell_type": "code",
   "execution_count": 923,
   "id": "80972ebd",
   "metadata": {},
   "outputs": [
    {
     "data": {
      "text/html": [
       "<div>\n",
       "<style scoped>\n",
       "    .dataframe tbody tr th:only-of-type {\n",
       "        vertical-align: middle;\n",
       "    }\n",
       "\n",
       "    .dataframe tbody tr th {\n",
       "        vertical-align: top;\n",
       "    }\n",
       "\n",
       "    .dataframe thead th {\n",
       "        text-align: right;\n",
       "    }\n",
       "</style>\n",
       "<table border=\"1\" class=\"dataframe\">\n",
       "  <thead>\n",
       "    <tr style=\"text-align: right;\">\n",
       "      <th></th>\n",
       "      <th>Id</th>\n",
       "      <th>MSSubClass</th>\n",
       "      <th>MSZoning</th>\n",
       "      <th>LotFrontage</th>\n",
       "      <th>LotArea</th>\n",
       "      <th>Street</th>\n",
       "      <th>Alley</th>\n",
       "      <th>LotShape</th>\n",
       "      <th>LandContour</th>\n",
       "      <th>Utilities</th>\n",
       "      <th>...</th>\n",
       "      <th>PoolArea</th>\n",
       "      <th>PoolQC</th>\n",
       "      <th>Fence</th>\n",
       "      <th>MiscFeature</th>\n",
       "      <th>MiscVal</th>\n",
       "      <th>MoSold</th>\n",
       "      <th>YrSold</th>\n",
       "      <th>SaleType</th>\n",
       "      <th>SaleCondition</th>\n",
       "      <th>SalePrice</th>\n",
       "    </tr>\n",
       "  </thead>\n",
       "  <tbody>\n",
       "    <tr>\n",
       "      <th>0</th>\n",
       "      <td>1</td>\n",
       "      <td>60</td>\n",
       "      <td>RL</td>\n",
       "      <td>65.0</td>\n",
       "      <td>8450</td>\n",
       "      <td>Pave</td>\n",
       "      <td>NaN</td>\n",
       "      <td>Reg</td>\n",
       "      <td>Lvl</td>\n",
       "      <td>AllPub</td>\n",
       "      <td>...</td>\n",
       "      <td>0</td>\n",
       "      <td>NaN</td>\n",
       "      <td>NaN</td>\n",
       "      <td>NaN</td>\n",
       "      <td>0</td>\n",
       "      <td>2</td>\n",
       "      <td>2008</td>\n",
       "      <td>WD</td>\n",
       "      <td>Normal</td>\n",
       "      <td>208500</td>\n",
       "    </tr>\n",
       "    <tr>\n",
       "      <th>1</th>\n",
       "      <td>2</td>\n",
       "      <td>20</td>\n",
       "      <td>RL</td>\n",
       "      <td>80.0</td>\n",
       "      <td>9600</td>\n",
       "      <td>Pave</td>\n",
       "      <td>NaN</td>\n",
       "      <td>Reg</td>\n",
       "      <td>Lvl</td>\n",
       "      <td>AllPub</td>\n",
       "      <td>...</td>\n",
       "      <td>0</td>\n",
       "      <td>NaN</td>\n",
       "      <td>NaN</td>\n",
       "      <td>NaN</td>\n",
       "      <td>0</td>\n",
       "      <td>5</td>\n",
       "      <td>2007</td>\n",
       "      <td>WD</td>\n",
       "      <td>Normal</td>\n",
       "      <td>181500</td>\n",
       "    </tr>\n",
       "  </tbody>\n",
       "</table>\n",
       "<p>2 rows × 81 columns</p>\n",
       "</div>"
      ],
      "text/plain": [
       "   Id  MSSubClass MSZoning  LotFrontage  LotArea Street Alley LotShape  \\\n",
       "0   1          60       RL         65.0     8450   Pave   NaN      Reg   \n",
       "1   2          20       RL         80.0     9600   Pave   NaN      Reg   \n",
       "\n",
       "  LandContour Utilities  ... PoolArea PoolQC Fence MiscFeature MiscVal MoSold  \\\n",
       "0         Lvl    AllPub  ...        0    NaN   NaN         NaN       0      2   \n",
       "1         Lvl    AllPub  ...        0    NaN   NaN         NaN       0      5   \n",
       "\n",
       "  YrSold  SaleType  SaleCondition  SalePrice  \n",
       "0   2008        WD         Normal     208500  \n",
       "1   2007        WD         Normal     181500  \n",
       "\n",
       "[2 rows x 81 columns]"
      ]
     },
     "execution_count": 923,
     "metadata": {},
     "output_type": "execute_result"
    }
   ],
   "source": [
    "data.head(2)"
   ]
  },
  {
   "cell_type": "code",
   "execution_count": 924,
   "id": "55f07bb1",
   "metadata": {},
   "outputs": [
    {
     "data": {
      "text/plain": [
       "Index(['Id', 'MSSubClass', 'MSZoning', 'LotFrontage', 'LotArea', 'Street',\n",
       "       'Alley', 'LotShape', 'LandContour', 'Utilities', 'LotConfig',\n",
       "       'LandSlope', 'Neighborhood', 'Condition1', 'Condition2', 'BldgType',\n",
       "       'HouseStyle', 'OverallQual', 'OverallCond', 'YearBuilt', 'YearRemodAdd',\n",
       "       'RoofStyle', 'RoofMatl', 'Exterior1st', 'Exterior2nd', 'MasVnrType',\n",
       "       'MasVnrArea', 'ExterQual', 'ExterCond', 'Foundation', 'BsmtQual',\n",
       "       'BsmtCond', 'BsmtExposure', 'BsmtFinType1', 'BsmtFinSF1',\n",
       "       'BsmtFinType2', 'BsmtFinSF2', 'BsmtUnfSF', 'TotalBsmtSF', 'Heating',\n",
       "       'HeatingQC', 'CentralAir', 'Electrical', '1stFlrSF', '2ndFlrSF',\n",
       "       'LowQualFinSF', 'GrLivArea', 'BsmtFullBath', 'BsmtHalfBath', 'FullBath',\n",
       "       'HalfBath', 'BedroomAbvGr', 'KitchenAbvGr', 'KitchenQual',\n",
       "       'TotRmsAbvGrd', 'Functional', 'Fireplaces', 'FireplaceQu', 'GarageType',\n",
       "       'GarageYrBlt', 'GarageFinish', 'GarageCars', 'GarageArea', 'GarageQual',\n",
       "       'GarageCond', 'PavedDrive', 'WoodDeckSF', 'OpenPorchSF',\n",
       "       'EnclosedPorch', '3SsnPorch', 'ScreenPorch', 'PoolArea', 'PoolQC',\n",
       "       'Fence', 'MiscFeature', 'MiscVal', 'MoSold', 'YrSold', 'SaleType',\n",
       "       'SaleCondition', 'SalePrice'],\n",
       "      dtype='object')"
      ]
     },
     "execution_count": 924,
     "metadata": {},
     "output_type": "execute_result"
    }
   ],
   "source": [
    "data.columns"
   ]
  },
  {
   "cell_type": "code",
   "execution_count": 925,
   "id": "c9e3ebc5",
   "metadata": {},
   "outputs": [],
   "source": [
    "def train_test_split_formatted_method(data,ratio):\n",
    "    if ratio>1:\n",
    "        print (\"Ratio must be in format of 0.xx\")\n",
    "        return;\n",
    "    shuffled_indices=np.random.permutation(len(data))\n",
    "    print (\"Indices Shuffled..\")\n",
    "    test_set_size=int(len(data)*ratio)\n",
    "    test_indices=shuffled_indices[:test_set_size]\n",
    "    train_indices=shuffled_indices[test_set_size:]\n",
    "    \n",
    "    return data.iloc[train_indices],data.iloc[test_indices]"
   ]
  },
  {
   "cell_type": "code",
   "execution_count": 926,
   "id": "31b21b2f",
   "metadata": {},
   "outputs": [],
   "source": [
    "# train_data,test_data=train_test_split_formatted_method(main_data,0.2)"
   ]
  },
  {
   "cell_type": "code",
   "execution_count": 927,
   "id": "c5a872ea",
   "metadata": {},
   "outputs": [],
   "source": [
    "# print (\"Train Data Size {} \\nTest Data Size {}\".format(len(train_data),len(test_data)))"
   ]
  },
  {
   "cell_type": "code",
   "execution_count": 928,
   "id": "9af25286",
   "metadata": {},
   "outputs": [
    {
     "name": "stdout",
     "output_type": "stream",
     "text": [
      "Column OverallQual and GarageCars\n",
      "Column OverallQual and SalePrice\n",
      "Column YearBuilt and GarageYrBlt\n",
      "Column YearRemodAdd and GarageYrBlt\n",
      "Column BsmtFinSF1 and BsmtFullBath\n",
      "Column TotalBsmtSF and 1stFlrSF\n",
      "Column TotalBsmtSF and SalePrice\n",
      "Column 1stFlrSF and TotalBsmtSF\n",
      "Column 1stFlrSF and SalePrice\n",
      "Column 2ndFlrSF and GrLivArea\n",
      "Column 2ndFlrSF and HalfBath\n",
      "Column 2ndFlrSF and TotRmsAbvGrd\n",
      "Column GrLivArea and 2ndFlrSF\n",
      "Column GrLivArea and FullBath\n",
      "Column GrLivArea and TotRmsAbvGrd\n",
      "Column GrLivArea and SalePrice\n",
      "Column BsmtFullBath and BsmtFinSF1\n",
      "Column FullBath and GrLivArea\n",
      "Column HalfBath and 2ndFlrSF\n",
      "Column BedroomAbvGr and TotRmsAbvGrd\n",
      "Column TotRmsAbvGrd and 2ndFlrSF\n",
      "Column TotRmsAbvGrd and GrLivArea\n",
      "Column TotRmsAbvGrd and BedroomAbvGr\n",
      "Column GarageYrBlt and YearBuilt\n",
      "Column GarageYrBlt and YearRemodAdd\n",
      "Column GarageCars and OverallQual\n",
      "Column GarageCars and GarageArea\n",
      "Column GarageCars and SalePrice\n",
      "Column GarageArea and GarageCars\n",
      "Column GarageArea and SalePrice\n",
      "Column SalePrice and OverallQual\n",
      "Column SalePrice and TotalBsmtSF\n",
      "Column SalePrice and 1stFlrSF\n",
      "Column SalePrice and GrLivArea\n",
      "Column SalePrice and GarageCars\n",
      "Column SalePrice and GarageArea\n"
     ]
    }
   ],
   "source": [
    "High_Correlation_Columns=set()\n",
    "for i in data.columns:\n",
    "    for j in data.columns:\n",
    "        if data[i].dtype in ['int64','float64'] and data[j].dtype in ['int64','float64']:\n",
    "            cor=data[i].corr(data[j])\n",
    "            if cor >= MIN_CORR and cor<0.999:\n",
    "                print (\"Column {} and {}\".format(i,j))\n",
    "                High_Correlation_Columns.add(i)\n",
    "                High_Correlation_Columns.add(j)\n",
    "            "
   ]
  },
  {
   "cell_type": "code",
   "execution_count": 929,
   "id": "9fd905f3",
   "metadata": {},
   "outputs": [],
   "source": [
    "main_data_labels=data['SalePrice']\n",
    "data.drop('SalePrice',axis=1,inplace=True)\n",
    "High_Correlation_Columns.remove('SalePrice')"
   ]
  },
  {
   "cell_type": "code",
   "execution_count": 930,
   "id": "b3bd8306",
   "metadata": {},
   "outputs": [
    {
     "data": {
      "text/plain": [
       "16"
      ]
     },
     "execution_count": 930,
     "metadata": {},
     "output_type": "execute_result"
    }
   ],
   "source": [
    "len(High_Correlation_Columns)"
   ]
  },
  {
   "cell_type": "code",
   "execution_count": 931,
   "id": "105009b1",
   "metadata": {},
   "outputs": [],
   "source": [
    "exp_data=data[list(High_Correlation_Columns)]"
   ]
  },
  {
   "cell_type": "code",
   "execution_count": 932,
   "id": "58f997f6",
   "metadata": {},
   "outputs": [
    {
     "data": {
      "text/html": [
       "<div>\n",
       "<style scoped>\n",
       "    .dataframe tbody tr th:only-of-type {\n",
       "        vertical-align: middle;\n",
       "    }\n",
       "\n",
       "    .dataframe tbody tr th {\n",
       "        vertical-align: top;\n",
       "    }\n",
       "\n",
       "    .dataframe thead th {\n",
       "        text-align: right;\n",
       "    }\n",
       "</style>\n",
       "<table border=\"1\" class=\"dataframe\">\n",
       "  <thead>\n",
       "    <tr style=\"text-align: right;\">\n",
       "      <th></th>\n",
       "      <th>OverallQual</th>\n",
       "      <th>TotalBsmtSF</th>\n",
       "      <th>YearRemodAdd</th>\n",
       "      <th>GarageArea</th>\n",
       "      <th>GarageYrBlt</th>\n",
       "      <th>1stFlrSF</th>\n",
       "      <th>2ndFlrSF</th>\n",
       "      <th>HalfBath</th>\n",
       "      <th>BsmtFinSF1</th>\n",
       "      <th>FullBath</th>\n",
       "      <th>YearBuilt</th>\n",
       "      <th>GrLivArea</th>\n",
       "      <th>BedroomAbvGr</th>\n",
       "      <th>GarageCars</th>\n",
       "      <th>BsmtFullBath</th>\n",
       "      <th>TotRmsAbvGrd</th>\n",
       "    </tr>\n",
       "  </thead>\n",
       "  <tbody>\n",
       "    <tr>\n",
       "      <th>0</th>\n",
       "      <td>7</td>\n",
       "      <td>856</td>\n",
       "      <td>2003</td>\n",
       "      <td>548</td>\n",
       "      <td>2003.0</td>\n",
       "      <td>856</td>\n",
       "      <td>854</td>\n",
       "      <td>1</td>\n",
       "      <td>706</td>\n",
       "      <td>2</td>\n",
       "      <td>2003</td>\n",
       "      <td>1710</td>\n",
       "      <td>3</td>\n",
       "      <td>2</td>\n",
       "      <td>1</td>\n",
       "      <td>8</td>\n",
       "    </tr>\n",
       "    <tr>\n",
       "      <th>1</th>\n",
       "      <td>6</td>\n",
       "      <td>1262</td>\n",
       "      <td>1976</td>\n",
       "      <td>460</td>\n",
       "      <td>1976.0</td>\n",
       "      <td>1262</td>\n",
       "      <td>0</td>\n",
       "      <td>0</td>\n",
       "      <td>978</td>\n",
       "      <td>2</td>\n",
       "      <td>1976</td>\n",
       "      <td>1262</td>\n",
       "      <td>3</td>\n",
       "      <td>2</td>\n",
       "      <td>0</td>\n",
       "      <td>6</td>\n",
       "    </tr>\n",
       "    <tr>\n",
       "      <th>2</th>\n",
       "      <td>7</td>\n",
       "      <td>920</td>\n",
       "      <td>2002</td>\n",
       "      <td>608</td>\n",
       "      <td>2001.0</td>\n",
       "      <td>920</td>\n",
       "      <td>866</td>\n",
       "      <td>1</td>\n",
       "      <td>486</td>\n",
       "      <td>2</td>\n",
       "      <td>2001</td>\n",
       "      <td>1786</td>\n",
       "      <td>3</td>\n",
       "      <td>2</td>\n",
       "      <td>1</td>\n",
       "      <td>6</td>\n",
       "    </tr>\n",
       "    <tr>\n",
       "      <th>3</th>\n",
       "      <td>7</td>\n",
       "      <td>756</td>\n",
       "      <td>1970</td>\n",
       "      <td>642</td>\n",
       "      <td>1998.0</td>\n",
       "      <td>961</td>\n",
       "      <td>756</td>\n",
       "      <td>0</td>\n",
       "      <td>216</td>\n",
       "      <td>1</td>\n",
       "      <td>1915</td>\n",
       "      <td>1717</td>\n",
       "      <td>3</td>\n",
       "      <td>3</td>\n",
       "      <td>1</td>\n",
       "      <td>7</td>\n",
       "    </tr>\n",
       "    <tr>\n",
       "      <th>4</th>\n",
       "      <td>8</td>\n",
       "      <td>1145</td>\n",
       "      <td>2000</td>\n",
       "      <td>836</td>\n",
       "      <td>2000.0</td>\n",
       "      <td>1145</td>\n",
       "      <td>1053</td>\n",
       "      <td>1</td>\n",
       "      <td>655</td>\n",
       "      <td>2</td>\n",
       "      <td>2000</td>\n",
       "      <td>2198</td>\n",
       "      <td>4</td>\n",
       "      <td>3</td>\n",
       "      <td>1</td>\n",
       "      <td>9</td>\n",
       "    </tr>\n",
       "  </tbody>\n",
       "</table>\n",
       "</div>"
      ],
      "text/plain": [
       "   OverallQual  TotalBsmtSF  YearRemodAdd  GarageArea  GarageYrBlt  1stFlrSF  \\\n",
       "0            7          856          2003         548       2003.0       856   \n",
       "1            6         1262          1976         460       1976.0      1262   \n",
       "2            7          920          2002         608       2001.0       920   \n",
       "3            7          756          1970         642       1998.0       961   \n",
       "4            8         1145          2000         836       2000.0      1145   \n",
       "\n",
       "   2ndFlrSF  HalfBath  BsmtFinSF1  FullBath  YearBuilt  GrLivArea  \\\n",
       "0       854         1         706         2       2003       1710   \n",
       "1         0         0         978         2       1976       1262   \n",
       "2       866         1         486         2       2001       1786   \n",
       "3       756         0         216         1       1915       1717   \n",
       "4      1053         1         655         2       2000       2198   \n",
       "\n",
       "   BedroomAbvGr  GarageCars  BsmtFullBath  TotRmsAbvGrd  \n",
       "0             3           2             1             8  \n",
       "1             3           2             0             6  \n",
       "2             3           2             1             6  \n",
       "3             3           3             1             7  \n",
       "4             4           3             1             9  "
      ]
     },
     "execution_count": 932,
     "metadata": {},
     "output_type": "execute_result"
    }
   ],
   "source": [
    "exp_data.head()"
   ]
  },
  {
   "cell_type": "code",
   "execution_count": 933,
   "id": "ea9fa595",
   "metadata": {},
   "outputs": [
    {
     "data": {
      "text/plain": [
       "OverallQual      0\n",
       "TotalBsmtSF      0\n",
       "YearRemodAdd     0\n",
       "GarageArea       0\n",
       "GarageYrBlt     81\n",
       "1stFlrSF         0\n",
       "2ndFlrSF         0\n",
       "HalfBath         0\n",
       "BsmtFinSF1       0\n",
       "FullBath         0\n",
       "YearBuilt        0\n",
       "GrLivArea        0\n",
       "BedroomAbvGr     0\n",
       "GarageCars       0\n",
       "BsmtFullBath     0\n",
       "TotRmsAbvGrd     0\n",
       "dtype: int64"
      ]
     },
     "execution_count": 933,
     "metadata": {},
     "output_type": "execute_result"
    }
   ],
   "source": [
    "exp_data.isnull().sum()"
   ]
  },
  {
   "cell_type": "code",
   "execution_count": 934,
   "id": "59b94bce",
   "metadata": {},
   "outputs": [
    {
     "data": {
      "text/plain": [
       "1978.5061638868744"
      ]
     },
     "execution_count": 934,
     "metadata": {},
     "output_type": "execute_result"
    }
   ],
   "source": [
    "exp_data.GarageYrBlt.mean()"
   ]
  },
  {
   "cell_type": "code",
   "execution_count": 935,
   "id": "f77be06e",
   "metadata": {},
   "outputs": [
    {
     "name": "stderr",
     "output_type": "stream",
     "text": [
      "C:\\Users\\Hp\\AppData\\Local\\Temp\\ipykernel_5768\\1544574886.py:1: SettingWithCopyWarning: \n",
      "A value is trying to be set on a copy of a slice from a DataFrame\n",
      "\n",
      "See the caveats in the documentation: https://pandas.pydata.org/pandas-docs/stable/user_guide/indexing.html#returning-a-view-versus-a-copy\n",
      "  exp_data['GarageYrBlt'].fillna(exp_data['GarageYrBlt'].mean(),inplace=True)\n"
     ]
    }
   ],
   "source": [
    "exp_data['GarageYrBlt'].fillna(exp_data['GarageYrBlt'].mean(),inplace=True)\n",
    "\n",
    "for i , j in zip (exp_data.columns,exp_data.isnull().sum()):\n",
    "    if j>0:\n",
    "        exp_data[i].fillna(exp_data[i].mean(),inplace=True)"
   ]
  },
  {
   "cell_type": "code",
   "execution_count": 936,
   "id": "584e96cd",
   "metadata": {},
   "outputs": [
    {
     "data": {
      "text/plain": [
       "OverallQual     0\n",
       "TotalBsmtSF     0\n",
       "YearRemodAdd    0\n",
       "GarageArea      0\n",
       "GarageYrBlt     0\n",
       "1stFlrSF        0\n",
       "2ndFlrSF        0\n",
       "HalfBath        0\n",
       "BsmtFinSF1      0\n",
       "FullBath        0\n",
       "YearBuilt       0\n",
       "GrLivArea       0\n",
       "BedroomAbvGr    0\n",
       "GarageCars      0\n",
       "BsmtFullBath    0\n",
       "TotRmsAbvGrd    0\n",
       "dtype: int64"
      ]
     },
     "execution_count": 936,
     "metadata": {},
     "output_type": "execute_result"
    }
   ],
   "source": [
    "exp_data.isnull().sum()"
   ]
  },
  {
   "cell_type": "code",
   "execution_count": 937,
   "id": "d5448761",
   "metadata": {},
   "outputs": [
    {
     "data": {
      "text/html": [
       "<div>\n",
       "<style scoped>\n",
       "    .dataframe tbody tr th:only-of-type {\n",
       "        vertical-align: middle;\n",
       "    }\n",
       "\n",
       "    .dataframe tbody tr th {\n",
       "        vertical-align: top;\n",
       "    }\n",
       "\n",
       "    .dataframe thead th {\n",
       "        text-align: right;\n",
       "    }\n",
       "</style>\n",
       "<table border=\"1\" class=\"dataframe\">\n",
       "  <thead>\n",
       "    <tr style=\"text-align: right;\">\n",
       "      <th></th>\n",
       "      <th>OverallQual</th>\n",
       "      <th>TotalBsmtSF</th>\n",
       "      <th>YearRemodAdd</th>\n",
       "      <th>GarageArea</th>\n",
       "      <th>GarageYrBlt</th>\n",
       "      <th>1stFlrSF</th>\n",
       "      <th>2ndFlrSF</th>\n",
       "      <th>HalfBath</th>\n",
       "      <th>BsmtFinSF1</th>\n",
       "      <th>FullBath</th>\n",
       "      <th>YearBuilt</th>\n",
       "      <th>GrLivArea</th>\n",
       "      <th>BedroomAbvGr</th>\n",
       "      <th>GarageCars</th>\n",
       "      <th>BsmtFullBath</th>\n",
       "      <th>TotRmsAbvGrd</th>\n",
       "    </tr>\n",
       "  </thead>\n",
       "  <tbody>\n",
       "    <tr>\n",
       "      <th>count</th>\n",
       "      <td>1460.000000</td>\n",
       "      <td>1460.000000</td>\n",
       "      <td>1460.000000</td>\n",
       "      <td>1460.000000</td>\n",
       "      <td>1460.000000</td>\n",
       "      <td>1460.000000</td>\n",
       "      <td>1460.000000</td>\n",
       "      <td>1460.000000</td>\n",
       "      <td>1460.000000</td>\n",
       "      <td>1460.000000</td>\n",
       "      <td>1460.000000</td>\n",
       "      <td>1460.000000</td>\n",
       "      <td>1460.000000</td>\n",
       "      <td>1460.000000</td>\n",
       "      <td>1460.000000</td>\n",
       "      <td>1460.000000</td>\n",
       "    </tr>\n",
       "    <tr>\n",
       "      <th>mean</th>\n",
       "      <td>6.099315</td>\n",
       "      <td>1057.429452</td>\n",
       "      <td>1984.865753</td>\n",
       "      <td>472.980137</td>\n",
       "      <td>1978.506164</td>\n",
       "      <td>1162.626712</td>\n",
       "      <td>346.992466</td>\n",
       "      <td>0.382877</td>\n",
       "      <td>443.639726</td>\n",
       "      <td>1.565068</td>\n",
       "      <td>1971.267808</td>\n",
       "      <td>1515.463699</td>\n",
       "      <td>2.866438</td>\n",
       "      <td>1.767123</td>\n",
       "      <td>0.425342</td>\n",
       "      <td>6.517808</td>\n",
       "    </tr>\n",
       "    <tr>\n",
       "      <th>std</th>\n",
       "      <td>1.382997</td>\n",
       "      <td>438.705324</td>\n",
       "      <td>20.645407</td>\n",
       "      <td>213.804841</td>\n",
       "      <td>23.994583</td>\n",
       "      <td>386.587738</td>\n",
       "      <td>436.528436</td>\n",
       "      <td>0.502885</td>\n",
       "      <td>456.098091</td>\n",
       "      <td>0.550916</td>\n",
       "      <td>30.202904</td>\n",
       "      <td>525.480383</td>\n",
       "      <td>0.815778</td>\n",
       "      <td>0.747315</td>\n",
       "      <td>0.518911</td>\n",
       "      <td>1.625393</td>\n",
       "    </tr>\n",
       "    <tr>\n",
       "      <th>min</th>\n",
       "      <td>1.000000</td>\n",
       "      <td>0.000000</td>\n",
       "      <td>1950.000000</td>\n",
       "      <td>0.000000</td>\n",
       "      <td>1900.000000</td>\n",
       "      <td>334.000000</td>\n",
       "      <td>0.000000</td>\n",
       "      <td>0.000000</td>\n",
       "      <td>0.000000</td>\n",
       "      <td>0.000000</td>\n",
       "      <td>1872.000000</td>\n",
       "      <td>334.000000</td>\n",
       "      <td>0.000000</td>\n",
       "      <td>0.000000</td>\n",
       "      <td>0.000000</td>\n",
       "      <td>2.000000</td>\n",
       "    </tr>\n",
       "    <tr>\n",
       "      <th>25%</th>\n",
       "      <td>5.000000</td>\n",
       "      <td>795.750000</td>\n",
       "      <td>1967.000000</td>\n",
       "      <td>334.500000</td>\n",
       "      <td>1962.000000</td>\n",
       "      <td>882.000000</td>\n",
       "      <td>0.000000</td>\n",
       "      <td>0.000000</td>\n",
       "      <td>0.000000</td>\n",
       "      <td>1.000000</td>\n",
       "      <td>1954.000000</td>\n",
       "      <td>1129.500000</td>\n",
       "      <td>2.000000</td>\n",
       "      <td>1.000000</td>\n",
       "      <td>0.000000</td>\n",
       "      <td>5.000000</td>\n",
       "    </tr>\n",
       "    <tr>\n",
       "      <th>50%</th>\n",
       "      <td>6.000000</td>\n",
       "      <td>991.500000</td>\n",
       "      <td>1994.000000</td>\n",
       "      <td>480.000000</td>\n",
       "      <td>1978.506164</td>\n",
       "      <td>1087.000000</td>\n",
       "      <td>0.000000</td>\n",
       "      <td>0.000000</td>\n",
       "      <td>383.500000</td>\n",
       "      <td>2.000000</td>\n",
       "      <td>1973.000000</td>\n",
       "      <td>1464.000000</td>\n",
       "      <td>3.000000</td>\n",
       "      <td>2.000000</td>\n",
       "      <td>0.000000</td>\n",
       "      <td>6.000000</td>\n",
       "    </tr>\n",
       "    <tr>\n",
       "      <th>75%</th>\n",
       "      <td>7.000000</td>\n",
       "      <td>1298.250000</td>\n",
       "      <td>2004.000000</td>\n",
       "      <td>576.000000</td>\n",
       "      <td>2001.000000</td>\n",
       "      <td>1391.250000</td>\n",
       "      <td>728.000000</td>\n",
       "      <td>1.000000</td>\n",
       "      <td>712.250000</td>\n",
       "      <td>2.000000</td>\n",
       "      <td>2000.000000</td>\n",
       "      <td>1776.750000</td>\n",
       "      <td>3.000000</td>\n",
       "      <td>2.000000</td>\n",
       "      <td>1.000000</td>\n",
       "      <td>7.000000</td>\n",
       "    </tr>\n",
       "    <tr>\n",
       "      <th>max</th>\n",
       "      <td>10.000000</td>\n",
       "      <td>6110.000000</td>\n",
       "      <td>2010.000000</td>\n",
       "      <td>1418.000000</td>\n",
       "      <td>2010.000000</td>\n",
       "      <td>4692.000000</td>\n",
       "      <td>2065.000000</td>\n",
       "      <td>2.000000</td>\n",
       "      <td>5644.000000</td>\n",
       "      <td>3.000000</td>\n",
       "      <td>2010.000000</td>\n",
       "      <td>5642.000000</td>\n",
       "      <td>8.000000</td>\n",
       "      <td>4.000000</td>\n",
       "      <td>3.000000</td>\n",
       "      <td>14.000000</td>\n",
       "    </tr>\n",
       "  </tbody>\n",
       "</table>\n",
       "</div>"
      ],
      "text/plain": [
       "       OverallQual  TotalBsmtSF  YearRemodAdd   GarageArea  GarageYrBlt  \\\n",
       "count  1460.000000  1460.000000   1460.000000  1460.000000  1460.000000   \n",
       "mean      6.099315  1057.429452   1984.865753   472.980137  1978.506164   \n",
       "std       1.382997   438.705324     20.645407   213.804841    23.994583   \n",
       "min       1.000000     0.000000   1950.000000     0.000000  1900.000000   \n",
       "25%       5.000000   795.750000   1967.000000   334.500000  1962.000000   \n",
       "50%       6.000000   991.500000   1994.000000   480.000000  1978.506164   \n",
       "75%       7.000000  1298.250000   2004.000000   576.000000  2001.000000   \n",
       "max      10.000000  6110.000000   2010.000000  1418.000000  2010.000000   \n",
       "\n",
       "          1stFlrSF     2ndFlrSF     HalfBath   BsmtFinSF1     FullBath  \\\n",
       "count  1460.000000  1460.000000  1460.000000  1460.000000  1460.000000   \n",
       "mean   1162.626712   346.992466     0.382877   443.639726     1.565068   \n",
       "std     386.587738   436.528436     0.502885   456.098091     0.550916   \n",
       "min     334.000000     0.000000     0.000000     0.000000     0.000000   \n",
       "25%     882.000000     0.000000     0.000000     0.000000     1.000000   \n",
       "50%    1087.000000     0.000000     0.000000   383.500000     2.000000   \n",
       "75%    1391.250000   728.000000     1.000000   712.250000     2.000000   \n",
       "max    4692.000000  2065.000000     2.000000  5644.000000     3.000000   \n",
       "\n",
       "         YearBuilt    GrLivArea  BedroomAbvGr   GarageCars  BsmtFullBath  \\\n",
       "count  1460.000000  1460.000000   1460.000000  1460.000000   1460.000000   \n",
       "mean   1971.267808  1515.463699      2.866438     1.767123      0.425342   \n",
       "std      30.202904   525.480383      0.815778     0.747315      0.518911   \n",
       "min    1872.000000   334.000000      0.000000     0.000000      0.000000   \n",
       "25%    1954.000000  1129.500000      2.000000     1.000000      0.000000   \n",
       "50%    1973.000000  1464.000000      3.000000     2.000000      0.000000   \n",
       "75%    2000.000000  1776.750000      3.000000     2.000000      1.000000   \n",
       "max    2010.000000  5642.000000      8.000000     4.000000      3.000000   \n",
       "\n",
       "       TotRmsAbvGrd  \n",
       "count   1460.000000  \n",
       "mean       6.517808  \n",
       "std        1.625393  \n",
       "min        2.000000  \n",
       "25%        5.000000  \n",
       "50%        6.000000  \n",
       "75%        7.000000  \n",
       "max       14.000000  "
      ]
     },
     "execution_count": 937,
     "metadata": {},
     "output_type": "execute_result"
    }
   ],
   "source": [
    "exp_data.describe()"
   ]
  },
  {
   "cell_type": "code",
   "execution_count": 938,
   "id": "f239d2d0",
   "metadata": {},
   "outputs": [],
   "source": [
    "from datetime import datetime"
   ]
  },
  {
   "cell_type": "code",
   "execution_count": 939,
   "id": "4b5840b8",
   "metadata": {},
   "outputs": [
    {
     "name": "stderr",
     "output_type": "stream",
     "text": [
      "C:\\Users\\Hp\\AppData\\Local\\Temp\\ipykernel_5768\\4181640657.py:1: SettingWithCopyWarning: \n",
      "A value is trying to be set on a copy of a slice from a DataFrame.\n",
      "Try using .loc[row_indexer,col_indexer] = value instead\n",
      "\n",
      "See the caveats in the documentation: https://pandas.pydata.org/pandas-docs/stable/user_guide/indexing.html#returning-a-view-versus-a-copy\n",
      "  exp_data['HouseAge']=datetime.now().year-exp_data['YearBuilt']\n",
      "C:\\Users\\Hp\\AppData\\Local\\Temp\\ipykernel_5768\\4181640657.py:2: SettingWithCopyWarning: \n",
      "A value is trying to be set on a copy of a slice from a DataFrame.\n",
      "Try using .loc[row_indexer,col_indexer] = value instead\n",
      "\n",
      "See the caveats in the documentation: https://pandas.pydata.org/pandas-docs/stable/user_guide/indexing.html#returning-a-view-versus-a-copy\n",
      "  exp_data['GarageAge']=datetime.now().year-exp_data['GarageYrBlt']\n"
     ]
    }
   ],
   "source": [
    "exp_data['HouseAge']=datetime.now().year-exp_data['YearBuilt']\n",
    "exp_data['GarageAge']=datetime.now().year-exp_data['GarageYrBlt']\n"
   ]
  },
  {
   "cell_type": "code",
   "execution_count": 940,
   "id": "d0b134d1",
   "metadata": {},
   "outputs": [
    {
     "data": {
      "text/html": [
       "<div>\n",
       "<style scoped>\n",
       "    .dataframe tbody tr th:only-of-type {\n",
       "        vertical-align: middle;\n",
       "    }\n",
       "\n",
       "    .dataframe tbody tr th {\n",
       "        vertical-align: top;\n",
       "    }\n",
       "\n",
       "    .dataframe thead th {\n",
       "        text-align: right;\n",
       "    }\n",
       "</style>\n",
       "<table border=\"1\" class=\"dataframe\">\n",
       "  <thead>\n",
       "    <tr style=\"text-align: right;\">\n",
       "      <th></th>\n",
       "      <th>OverallQual</th>\n",
       "      <th>TotalBsmtSF</th>\n",
       "      <th>YearRemodAdd</th>\n",
       "      <th>GarageArea</th>\n",
       "      <th>GarageYrBlt</th>\n",
       "      <th>1stFlrSF</th>\n",
       "      <th>2ndFlrSF</th>\n",
       "      <th>HalfBath</th>\n",
       "      <th>BsmtFinSF1</th>\n",
       "      <th>FullBath</th>\n",
       "      <th>YearBuilt</th>\n",
       "      <th>GrLivArea</th>\n",
       "      <th>BedroomAbvGr</th>\n",
       "      <th>GarageCars</th>\n",
       "      <th>BsmtFullBath</th>\n",
       "      <th>TotRmsAbvGrd</th>\n",
       "      <th>HouseAge</th>\n",
       "      <th>GarageAge</th>\n",
       "    </tr>\n",
       "  </thead>\n",
       "  <tbody>\n",
       "    <tr>\n",
       "      <th>0</th>\n",
       "      <td>7</td>\n",
       "      <td>856</td>\n",
       "      <td>2003</td>\n",
       "      <td>548</td>\n",
       "      <td>2003.0</td>\n",
       "      <td>856</td>\n",
       "      <td>854</td>\n",
       "      <td>1</td>\n",
       "      <td>706</td>\n",
       "      <td>2</td>\n",
       "      <td>2003</td>\n",
       "      <td>1710</td>\n",
       "      <td>3</td>\n",
       "      <td>2</td>\n",
       "      <td>1</td>\n",
       "      <td>8</td>\n",
       "      <td>19</td>\n",
       "      <td>19.0</td>\n",
       "    </tr>\n",
       "    <tr>\n",
       "      <th>1</th>\n",
       "      <td>6</td>\n",
       "      <td>1262</td>\n",
       "      <td>1976</td>\n",
       "      <td>460</td>\n",
       "      <td>1976.0</td>\n",
       "      <td>1262</td>\n",
       "      <td>0</td>\n",
       "      <td>0</td>\n",
       "      <td>978</td>\n",
       "      <td>2</td>\n",
       "      <td>1976</td>\n",
       "      <td>1262</td>\n",
       "      <td>3</td>\n",
       "      <td>2</td>\n",
       "      <td>0</td>\n",
       "      <td>6</td>\n",
       "      <td>46</td>\n",
       "      <td>46.0</td>\n",
       "    </tr>\n",
       "    <tr>\n",
       "      <th>2</th>\n",
       "      <td>7</td>\n",
       "      <td>920</td>\n",
       "      <td>2002</td>\n",
       "      <td>608</td>\n",
       "      <td>2001.0</td>\n",
       "      <td>920</td>\n",
       "      <td>866</td>\n",
       "      <td>1</td>\n",
       "      <td>486</td>\n",
       "      <td>2</td>\n",
       "      <td>2001</td>\n",
       "      <td>1786</td>\n",
       "      <td>3</td>\n",
       "      <td>2</td>\n",
       "      <td>1</td>\n",
       "      <td>6</td>\n",
       "      <td>21</td>\n",
       "      <td>21.0</td>\n",
       "    </tr>\n",
       "    <tr>\n",
       "      <th>3</th>\n",
       "      <td>7</td>\n",
       "      <td>756</td>\n",
       "      <td>1970</td>\n",
       "      <td>642</td>\n",
       "      <td>1998.0</td>\n",
       "      <td>961</td>\n",
       "      <td>756</td>\n",
       "      <td>0</td>\n",
       "      <td>216</td>\n",
       "      <td>1</td>\n",
       "      <td>1915</td>\n",
       "      <td>1717</td>\n",
       "      <td>3</td>\n",
       "      <td>3</td>\n",
       "      <td>1</td>\n",
       "      <td>7</td>\n",
       "      <td>107</td>\n",
       "      <td>24.0</td>\n",
       "    </tr>\n",
       "    <tr>\n",
       "      <th>4</th>\n",
       "      <td>8</td>\n",
       "      <td>1145</td>\n",
       "      <td>2000</td>\n",
       "      <td>836</td>\n",
       "      <td>2000.0</td>\n",
       "      <td>1145</td>\n",
       "      <td>1053</td>\n",
       "      <td>1</td>\n",
       "      <td>655</td>\n",
       "      <td>2</td>\n",
       "      <td>2000</td>\n",
       "      <td>2198</td>\n",
       "      <td>4</td>\n",
       "      <td>3</td>\n",
       "      <td>1</td>\n",
       "      <td>9</td>\n",
       "      <td>22</td>\n",
       "      <td>22.0</td>\n",
       "    </tr>\n",
       "  </tbody>\n",
       "</table>\n",
       "</div>"
      ],
      "text/plain": [
       "   OverallQual  TotalBsmtSF  YearRemodAdd  GarageArea  GarageYrBlt  1stFlrSF  \\\n",
       "0            7          856          2003         548       2003.0       856   \n",
       "1            6         1262          1976         460       1976.0      1262   \n",
       "2            7          920          2002         608       2001.0       920   \n",
       "3            7          756          1970         642       1998.0       961   \n",
       "4            8         1145          2000         836       2000.0      1145   \n",
       "\n",
       "   2ndFlrSF  HalfBath  BsmtFinSF1  FullBath  YearBuilt  GrLivArea  \\\n",
       "0       854         1         706         2       2003       1710   \n",
       "1         0         0         978         2       1976       1262   \n",
       "2       866         1         486         2       2001       1786   \n",
       "3       756         0         216         1       1915       1717   \n",
       "4      1053         1         655         2       2000       2198   \n",
       "\n",
       "   BedroomAbvGr  GarageCars  BsmtFullBath  TotRmsAbvGrd  HouseAge  GarageAge  \n",
       "0             3           2             1             8        19       19.0  \n",
       "1             3           2             0             6        46       46.0  \n",
       "2             3           2             1             6        21       21.0  \n",
       "3             3           3             1             7       107       24.0  \n",
       "4             4           3             1             9        22       22.0  "
      ]
     },
     "execution_count": 940,
     "metadata": {},
     "output_type": "execute_result"
    }
   ],
   "source": [
    "exp_data.head()"
   ]
  },
  {
   "cell_type": "code",
   "execution_count": 941,
   "id": "3f3cdd88",
   "metadata": {},
   "outputs": [
    {
     "name": "stderr",
     "output_type": "stream",
     "text": [
      "C:\\Users\\Hp\\AppData\\Local\\Temp\\ipykernel_5768\\3843674426.py:1: SettingWithCopyWarning: \n",
      "A value is trying to be set on a copy of a slice from a DataFrame\n",
      "\n",
      "See the caveats in the documentation: https://pandas.pydata.org/pandas-docs/stable/user_guide/indexing.html#returning-a-view-versus-a-copy\n",
      "  exp_data.drop('YearBuilt',axis=1,inplace=True)\n",
      "C:\\Users\\Hp\\AppData\\Local\\Temp\\ipykernel_5768\\3843674426.py:2: SettingWithCopyWarning: \n",
      "A value is trying to be set on a copy of a slice from a DataFrame\n",
      "\n",
      "See the caveats in the documentation: https://pandas.pydata.org/pandas-docs/stable/user_guide/indexing.html#returning-a-view-versus-a-copy\n",
      "  exp_data.drop('GarageYrBlt',axis=1,inplace=True)\n"
     ]
    }
   ],
   "source": [
    "exp_data.drop('YearBuilt',axis=1,inplace=True)\n",
    "exp_data.drop('GarageYrBlt',axis=1,inplace=True)"
   ]
  },
  {
   "cell_type": "code",
   "execution_count": 942,
   "id": "b43d1dda",
   "metadata": {},
   "outputs": [
    {
     "data": {
      "text/html": [
       "<div>\n",
       "<style scoped>\n",
       "    .dataframe tbody tr th:only-of-type {\n",
       "        vertical-align: middle;\n",
       "    }\n",
       "\n",
       "    .dataframe tbody tr th {\n",
       "        vertical-align: top;\n",
       "    }\n",
       "\n",
       "    .dataframe thead th {\n",
       "        text-align: right;\n",
       "    }\n",
       "</style>\n",
       "<table border=\"1\" class=\"dataframe\">\n",
       "  <thead>\n",
       "    <tr style=\"text-align: right;\">\n",
       "      <th></th>\n",
       "      <th>OverallQual</th>\n",
       "      <th>TotalBsmtSF</th>\n",
       "      <th>YearRemodAdd</th>\n",
       "      <th>GarageArea</th>\n",
       "      <th>1stFlrSF</th>\n",
       "      <th>2ndFlrSF</th>\n",
       "      <th>HalfBath</th>\n",
       "      <th>BsmtFinSF1</th>\n",
       "      <th>FullBath</th>\n",
       "      <th>GrLivArea</th>\n",
       "      <th>BedroomAbvGr</th>\n",
       "      <th>GarageCars</th>\n",
       "      <th>BsmtFullBath</th>\n",
       "      <th>TotRmsAbvGrd</th>\n",
       "      <th>HouseAge</th>\n",
       "      <th>GarageAge</th>\n",
       "    </tr>\n",
       "  </thead>\n",
       "  <tbody>\n",
       "    <tr>\n",
       "      <th>OverallQual</th>\n",
       "      <td>1.000000</td>\n",
       "      <td>0.537808</td>\n",
       "      <td>0.550684</td>\n",
       "      <td>0.562022</td>\n",
       "      <td>0.476224</td>\n",
       "      <td>0.295493</td>\n",
       "      <td>0.273458</td>\n",
       "      <td>0.239666</td>\n",
       "      <td>0.550600</td>\n",
       "      <td>0.593007</td>\n",
       "      <td>0.101676</td>\n",
       "      <td>0.600671</td>\n",
       "      <td>0.111098</td>\n",
       "      <td>0.427452</td>\n",
       "      <td>-0.572323</td>\n",
       "      <td>-0.518018</td>\n",
       "    </tr>\n",
       "    <tr>\n",
       "      <th>TotalBsmtSF</th>\n",
       "      <td>0.537808</td>\n",
       "      <td>1.000000</td>\n",
       "      <td>0.291066</td>\n",
       "      <td>0.486665</td>\n",
       "      <td>0.819530</td>\n",
       "      <td>-0.174512</td>\n",
       "      <td>-0.048804</td>\n",
       "      <td>0.522396</td>\n",
       "      <td>0.323722</td>\n",
       "      <td>0.454868</td>\n",
       "      <td>0.050450</td>\n",
       "      <td>0.434585</td>\n",
       "      <td>0.307351</td>\n",
       "      <td>0.285573</td>\n",
       "      <td>-0.391452</td>\n",
       "      <td>-0.311700</td>\n",
       "    </tr>\n",
       "    <tr>\n",
       "      <th>YearRemodAdd</th>\n",
       "      <td>0.550684</td>\n",
       "      <td>0.291066</td>\n",
       "      <td>1.000000</td>\n",
       "      <td>0.371600</td>\n",
       "      <td>0.240379</td>\n",
       "      <td>0.140024</td>\n",
       "      <td>0.183331</td>\n",
       "      <td>0.128451</td>\n",
       "      <td>0.439046</td>\n",
       "      <td>0.287389</td>\n",
       "      <td>-0.040581</td>\n",
       "      <td>0.420622</td>\n",
       "      <td>0.119470</td>\n",
       "      <td>0.191740</td>\n",
       "      <td>-0.592855</td>\n",
       "      <td>-0.618130</td>\n",
       "    </tr>\n",
       "    <tr>\n",
       "      <th>GarageArea</th>\n",
       "      <td>0.562022</td>\n",
       "      <td>0.486665</td>\n",
       "      <td>0.371600</td>\n",
       "      <td>1.000000</td>\n",
       "      <td>0.489782</td>\n",
       "      <td>0.138347</td>\n",
       "      <td>0.163549</td>\n",
       "      <td>0.296970</td>\n",
       "      <td>0.405656</td>\n",
       "      <td>0.468997</td>\n",
       "      <td>0.065253</td>\n",
       "      <td>0.882475</td>\n",
       "      <td>0.179189</td>\n",
       "      <td>0.337822</td>\n",
       "      <td>-0.478954</td>\n",
       "      <td>-0.476498</td>\n",
       "    </tr>\n",
       "    <tr>\n",
       "      <th>1stFlrSF</th>\n",
       "      <td>0.476224</td>\n",
       "      <td>0.819530</td>\n",
       "      <td>0.240379</td>\n",
       "      <td>0.489782</td>\n",
       "      <td>1.000000</td>\n",
       "      <td>-0.202646</td>\n",
       "      <td>-0.119916</td>\n",
       "      <td>0.445863</td>\n",
       "      <td>0.380637</td>\n",
       "      <td>0.566024</td>\n",
       "      <td>0.127401</td>\n",
       "      <td>0.439317</td>\n",
       "      <td>0.244671</td>\n",
       "      <td>0.409516</td>\n",
       "      <td>-0.281986</td>\n",
       "      <td>-0.227127</td>\n",
       "    </tr>\n",
       "    <tr>\n",
       "      <th>2ndFlrSF</th>\n",
       "      <td>0.295493</td>\n",
       "      <td>-0.174512</td>\n",
       "      <td>0.140024</td>\n",
       "      <td>0.138347</td>\n",
       "      <td>-0.202646</td>\n",
       "      <td>1.000000</td>\n",
       "      <td>0.609707</td>\n",
       "      <td>-0.137079</td>\n",
       "      <td>0.421378</td>\n",
       "      <td>0.687501</td>\n",
       "      <td>0.502901</td>\n",
       "      <td>0.183926</td>\n",
       "      <td>-0.169494</td>\n",
       "      <td>0.616423</td>\n",
       "      <td>-0.010308</td>\n",
       "      <td>-0.069315</td>\n",
       "    </tr>\n",
       "    <tr>\n",
       "      <th>HalfBath</th>\n",
       "      <td>0.273458</td>\n",
       "      <td>-0.048804</td>\n",
       "      <td>0.183331</td>\n",
       "      <td>0.163549</td>\n",
       "      <td>-0.119916</td>\n",
       "      <td>0.609707</td>\n",
       "      <td>1.000000</td>\n",
       "      <td>0.004262</td>\n",
       "      <td>0.136381</td>\n",
       "      <td>0.415772</td>\n",
       "      <td>0.226651</td>\n",
       "      <td>0.219178</td>\n",
       "      <td>-0.030905</td>\n",
       "      <td>0.343415</td>\n",
       "      <td>-0.242656</td>\n",
       "      <td>-0.191061</td>\n",
       "    </tr>\n",
       "    <tr>\n",
       "      <th>BsmtFinSF1</th>\n",
       "      <td>0.239666</td>\n",
       "      <td>0.522396</td>\n",
       "      <td>0.128451</td>\n",
       "      <td>0.296970</td>\n",
       "      <td>0.445863</td>\n",
       "      <td>-0.137079</td>\n",
       "      <td>0.004262</td>\n",
       "      <td>1.000000</td>\n",
       "      <td>0.058543</td>\n",
       "      <td>0.208171</td>\n",
       "      <td>-0.107355</td>\n",
       "      <td>0.224054</td>\n",
       "      <td>0.649212</td>\n",
       "      <td>0.044316</td>\n",
       "      <td>-0.249503</td>\n",
       "      <td>-0.150338</td>\n",
       "    </tr>\n",
       "    <tr>\n",
       "      <th>FullBath</th>\n",
       "      <td>0.550600</td>\n",
       "      <td>0.323722</td>\n",
       "      <td>0.439046</td>\n",
       "      <td>0.405656</td>\n",
       "      <td>0.380637</td>\n",
       "      <td>0.421378</td>\n",
       "      <td>0.136381</td>\n",
       "      <td>0.058543</td>\n",
       "      <td>1.000000</td>\n",
       "      <td>0.630012</td>\n",
       "      <td>0.363252</td>\n",
       "      <td>0.469672</td>\n",
       "      <td>-0.064512</td>\n",
       "      <td>0.554784</td>\n",
       "      <td>-0.468271</td>\n",
       "      <td>-0.468466</td>\n",
       "    </tr>\n",
       "    <tr>\n",
       "      <th>GrLivArea</th>\n",
       "      <td>0.593007</td>\n",
       "      <td>0.454868</td>\n",
       "      <td>0.287389</td>\n",
       "      <td>0.468997</td>\n",
       "      <td>0.566024</td>\n",
       "      <td>0.687501</td>\n",
       "      <td>0.415772</td>\n",
       "      <td>0.208171</td>\n",
       "      <td>0.630012</td>\n",
       "      <td>1.000000</td>\n",
       "      <td>0.521270</td>\n",
       "      <td>0.467247</td>\n",
       "      <td>0.034836</td>\n",
       "      <td>0.825489</td>\n",
       "      <td>-0.199010</td>\n",
       "      <td>-0.221977</td>\n",
       "    </tr>\n",
       "    <tr>\n",
       "      <th>BedroomAbvGr</th>\n",
       "      <td>0.101676</td>\n",
       "      <td>0.050450</td>\n",
       "      <td>-0.040581</td>\n",
       "      <td>0.065253</td>\n",
       "      <td>0.127401</td>\n",
       "      <td>0.502901</td>\n",
       "      <td>0.226651</td>\n",
       "      <td>-0.107355</td>\n",
       "      <td>0.363252</td>\n",
       "      <td>0.521270</td>\n",
       "      <td>1.000000</td>\n",
       "      <td>0.086106</td>\n",
       "      <td>-0.150673</td>\n",
       "      <td>0.676620</td>\n",
       "      <td>0.070651</td>\n",
       "      <td>0.060256</td>\n",
       "    </tr>\n",
       "    <tr>\n",
       "      <th>GarageCars</th>\n",
       "      <td>0.600671</td>\n",
       "      <td>0.434585</td>\n",
       "      <td>0.420622</td>\n",
       "      <td>0.882475</td>\n",
       "      <td>0.439317</td>\n",
       "      <td>0.183926</td>\n",
       "      <td>0.219178</td>\n",
       "      <td>0.224054</td>\n",
       "      <td>0.469672</td>\n",
       "      <td>0.467247</td>\n",
       "      <td>0.086106</td>\n",
       "      <td>1.000000</td>\n",
       "      <td>0.131881</td>\n",
       "      <td>0.362289</td>\n",
       "      <td>-0.537850</td>\n",
       "      <td>-0.482534</td>\n",
       "    </tr>\n",
       "    <tr>\n",
       "      <th>BsmtFullBath</th>\n",
       "      <td>0.111098</td>\n",
       "      <td>0.307351</td>\n",
       "      <td>0.119470</td>\n",
       "      <td>0.179189</td>\n",
       "      <td>0.244671</td>\n",
       "      <td>-0.169494</td>\n",
       "      <td>-0.030905</td>\n",
       "      <td>0.649212</td>\n",
       "      <td>-0.064512</td>\n",
       "      <td>0.034836</td>\n",
       "      <td>-0.150673</td>\n",
       "      <td>0.131881</td>\n",
       "      <td>1.000000</td>\n",
       "      <td>-0.053275</td>\n",
       "      <td>-0.187599</td>\n",
       "      <td>-0.119912</td>\n",
       "    </tr>\n",
       "    <tr>\n",
       "      <th>TotRmsAbvGrd</th>\n",
       "      <td>0.427452</td>\n",
       "      <td>0.285573</td>\n",
       "      <td>0.191740</td>\n",
       "      <td>0.337822</td>\n",
       "      <td>0.409516</td>\n",
       "      <td>0.616423</td>\n",
       "      <td>0.343415</td>\n",
       "      <td>0.044316</td>\n",
       "      <td>0.554784</td>\n",
       "      <td>0.825489</td>\n",
       "      <td>0.676620</td>\n",
       "      <td>0.362289</td>\n",
       "      <td>-0.053275</td>\n",
       "      <td>1.000000</td>\n",
       "      <td>-0.095589</td>\n",
       "      <td>-0.140791</td>\n",
       "    </tr>\n",
       "    <tr>\n",
       "      <th>HouseAge</th>\n",
       "      <td>-0.572323</td>\n",
       "      <td>-0.391452</td>\n",
       "      <td>-0.592855</td>\n",
       "      <td>-0.478954</td>\n",
       "      <td>-0.281986</td>\n",
       "      <td>-0.010308</td>\n",
       "      <td>-0.242656</td>\n",
       "      <td>-0.249503</td>\n",
       "      <td>-0.468271</td>\n",
       "      <td>-0.199010</td>\n",
       "      <td>0.070651</td>\n",
       "      <td>-0.537850</td>\n",
       "      <td>-0.187599</td>\n",
       "      <td>-0.095589</td>\n",
       "      <td>1.000000</td>\n",
       "      <td>0.780555</td>\n",
       "    </tr>\n",
       "    <tr>\n",
       "      <th>GarageAge</th>\n",
       "      <td>-0.518018</td>\n",
       "      <td>-0.311700</td>\n",
       "      <td>-0.618130</td>\n",
       "      <td>-0.476498</td>\n",
       "      <td>-0.227127</td>\n",
       "      <td>-0.069315</td>\n",
       "      <td>-0.191061</td>\n",
       "      <td>-0.150338</td>\n",
       "      <td>-0.468466</td>\n",
       "      <td>-0.221977</td>\n",
       "      <td>0.060256</td>\n",
       "      <td>-0.482534</td>\n",
       "      <td>-0.119912</td>\n",
       "      <td>-0.140791</td>\n",
       "      <td>0.780555</td>\n",
       "      <td>1.000000</td>\n",
       "    </tr>\n",
       "  </tbody>\n",
       "</table>\n",
       "</div>"
      ],
      "text/plain": [
       "              OverallQual  TotalBsmtSF  YearRemodAdd  GarageArea  1stFlrSF  \\\n",
       "OverallQual      1.000000     0.537808      0.550684    0.562022  0.476224   \n",
       "TotalBsmtSF      0.537808     1.000000      0.291066    0.486665  0.819530   \n",
       "YearRemodAdd     0.550684     0.291066      1.000000    0.371600  0.240379   \n",
       "GarageArea       0.562022     0.486665      0.371600    1.000000  0.489782   \n",
       "1stFlrSF         0.476224     0.819530      0.240379    0.489782  1.000000   \n",
       "2ndFlrSF         0.295493    -0.174512      0.140024    0.138347 -0.202646   \n",
       "HalfBath         0.273458    -0.048804      0.183331    0.163549 -0.119916   \n",
       "BsmtFinSF1       0.239666     0.522396      0.128451    0.296970  0.445863   \n",
       "FullBath         0.550600     0.323722      0.439046    0.405656  0.380637   \n",
       "GrLivArea        0.593007     0.454868      0.287389    0.468997  0.566024   \n",
       "BedroomAbvGr     0.101676     0.050450     -0.040581    0.065253  0.127401   \n",
       "GarageCars       0.600671     0.434585      0.420622    0.882475  0.439317   \n",
       "BsmtFullBath     0.111098     0.307351      0.119470    0.179189  0.244671   \n",
       "TotRmsAbvGrd     0.427452     0.285573      0.191740    0.337822  0.409516   \n",
       "HouseAge        -0.572323    -0.391452     -0.592855   -0.478954 -0.281986   \n",
       "GarageAge       -0.518018    -0.311700     -0.618130   -0.476498 -0.227127   \n",
       "\n",
       "              2ndFlrSF  HalfBath  BsmtFinSF1  FullBath  GrLivArea  \\\n",
       "OverallQual   0.295493  0.273458    0.239666  0.550600   0.593007   \n",
       "TotalBsmtSF  -0.174512 -0.048804    0.522396  0.323722   0.454868   \n",
       "YearRemodAdd  0.140024  0.183331    0.128451  0.439046   0.287389   \n",
       "GarageArea    0.138347  0.163549    0.296970  0.405656   0.468997   \n",
       "1stFlrSF     -0.202646 -0.119916    0.445863  0.380637   0.566024   \n",
       "2ndFlrSF      1.000000  0.609707   -0.137079  0.421378   0.687501   \n",
       "HalfBath      0.609707  1.000000    0.004262  0.136381   0.415772   \n",
       "BsmtFinSF1   -0.137079  0.004262    1.000000  0.058543   0.208171   \n",
       "FullBath      0.421378  0.136381    0.058543  1.000000   0.630012   \n",
       "GrLivArea     0.687501  0.415772    0.208171  0.630012   1.000000   \n",
       "BedroomAbvGr  0.502901  0.226651   -0.107355  0.363252   0.521270   \n",
       "GarageCars    0.183926  0.219178    0.224054  0.469672   0.467247   \n",
       "BsmtFullBath -0.169494 -0.030905    0.649212 -0.064512   0.034836   \n",
       "TotRmsAbvGrd  0.616423  0.343415    0.044316  0.554784   0.825489   \n",
       "HouseAge     -0.010308 -0.242656   -0.249503 -0.468271  -0.199010   \n",
       "GarageAge    -0.069315 -0.191061   -0.150338 -0.468466  -0.221977   \n",
       "\n",
       "              BedroomAbvGr  GarageCars  BsmtFullBath  TotRmsAbvGrd  HouseAge  \\\n",
       "OverallQual       0.101676    0.600671      0.111098      0.427452 -0.572323   \n",
       "TotalBsmtSF       0.050450    0.434585      0.307351      0.285573 -0.391452   \n",
       "YearRemodAdd     -0.040581    0.420622      0.119470      0.191740 -0.592855   \n",
       "GarageArea        0.065253    0.882475      0.179189      0.337822 -0.478954   \n",
       "1stFlrSF          0.127401    0.439317      0.244671      0.409516 -0.281986   \n",
       "2ndFlrSF          0.502901    0.183926     -0.169494      0.616423 -0.010308   \n",
       "HalfBath          0.226651    0.219178     -0.030905      0.343415 -0.242656   \n",
       "BsmtFinSF1       -0.107355    0.224054      0.649212      0.044316 -0.249503   \n",
       "FullBath          0.363252    0.469672     -0.064512      0.554784 -0.468271   \n",
       "GrLivArea         0.521270    0.467247      0.034836      0.825489 -0.199010   \n",
       "BedroomAbvGr      1.000000    0.086106     -0.150673      0.676620  0.070651   \n",
       "GarageCars        0.086106    1.000000      0.131881      0.362289 -0.537850   \n",
       "BsmtFullBath     -0.150673    0.131881      1.000000     -0.053275 -0.187599   \n",
       "TotRmsAbvGrd      0.676620    0.362289     -0.053275      1.000000 -0.095589   \n",
       "HouseAge          0.070651   -0.537850     -0.187599     -0.095589  1.000000   \n",
       "GarageAge         0.060256   -0.482534     -0.119912     -0.140791  0.780555   \n",
       "\n",
       "              GarageAge  \n",
       "OverallQual   -0.518018  \n",
       "TotalBsmtSF   -0.311700  \n",
       "YearRemodAdd  -0.618130  \n",
       "GarageArea    -0.476498  \n",
       "1stFlrSF      -0.227127  \n",
       "2ndFlrSF      -0.069315  \n",
       "HalfBath      -0.191061  \n",
       "BsmtFinSF1    -0.150338  \n",
       "FullBath      -0.468466  \n",
       "GrLivArea     -0.221977  \n",
       "BedroomAbvGr   0.060256  \n",
       "GarageCars    -0.482534  \n",
       "BsmtFullBath  -0.119912  \n",
       "TotRmsAbvGrd  -0.140791  \n",
       "HouseAge       0.780555  \n",
       "GarageAge      1.000000  "
      ]
     },
     "execution_count": 942,
     "metadata": {},
     "output_type": "execute_result"
    }
   ],
   "source": [
    "exp_data.corr()"
   ]
  },
  {
   "cell_type": "code",
   "execution_count": 943,
   "id": "476d73f7",
   "metadata": {},
   "outputs": [
    {
     "name": "stderr",
     "output_type": "stream",
     "text": [
      "C:\\Users\\Hp\\AppData\\Local\\Temp\\ipykernel_5768\\3532448585.py:1: SettingWithCopyWarning: \n",
      "A value is trying to be set on a copy of a slice from a DataFrame.\n",
      "Try using .loc[row_indexer,col_indexer] = value instead\n",
      "\n",
      "See the caveats in the documentation: https://pandas.pydata.org/pandas-docs/stable/user_guide/indexing.html#returning-a-view-versus-a-copy\n",
      "  exp_data['SalePrice']=main_data_labels\n"
     ]
    }
   ],
   "source": [
    "exp_data['SalePrice']=main_data_labels"
   ]
  },
  {
   "cell_type": "code",
   "execution_count": 944,
   "id": "43e2052f",
   "metadata": {},
   "outputs": [],
   "source": [
    "from sklearn.model_selection import train_test_split\n",
    "X,y=train_test_split(exp_data,test_size=0.05)"
   ]
  },
  {
   "cell_type": "code",
   "execution_count": 945,
   "id": "18e2c763",
   "metadata": {},
   "outputs": [
    {
     "name": "stdout",
     "output_type": "stream",
     "text": [
      "X 1387 and y 73\n"
     ]
    }
   ],
   "source": [
    "print (\"X {} and y {}\".format(len(X),len(y)))"
   ]
  },
  {
   "cell_type": "code",
   "execution_count": 946,
   "id": "2ee28e01",
   "metadata": {},
   "outputs": [],
   "source": [
    "X_data=X.drop('SalePrice',axis=1)"
   ]
  },
  {
   "cell_type": "code",
   "execution_count": 947,
   "id": "c59878f3",
   "metadata": {},
   "outputs": [],
   "source": [
    "X_label=X['SalePrice']"
   ]
  },
  {
   "cell_type": "code",
   "execution_count": 948,
   "id": "8fea83ea",
   "metadata": {},
   "outputs": [],
   "source": [
    "from sklearn.ensemble import RandomForestRegressor"
   ]
  },
  {
   "cell_type": "code",
   "execution_count": 949,
   "id": "4412475c",
   "metadata": {},
   "outputs": [],
   "source": [
    "model=RandomForestRegressor()"
   ]
  },
  {
   "cell_type": "code",
   "execution_count": 950,
   "id": "f3c815bd",
   "metadata": {},
   "outputs": [
    {
     "data": {
      "text/html": [
       "<style>#sk-container-id-17 {color: black;background-color: white;}#sk-container-id-17 pre{padding: 0;}#sk-container-id-17 div.sk-toggleable {background-color: white;}#sk-container-id-17 label.sk-toggleable__label {cursor: pointer;display: block;width: 100%;margin-bottom: 0;padding: 0.3em;box-sizing: border-box;text-align: center;}#sk-container-id-17 label.sk-toggleable__label-arrow:before {content: \"▸\";float: left;margin-right: 0.25em;color: #696969;}#sk-container-id-17 label.sk-toggleable__label-arrow:hover:before {color: black;}#sk-container-id-17 div.sk-estimator:hover label.sk-toggleable__label-arrow:before {color: black;}#sk-container-id-17 div.sk-toggleable__content {max-height: 0;max-width: 0;overflow: hidden;text-align: left;background-color: #f0f8ff;}#sk-container-id-17 div.sk-toggleable__content pre {margin: 0.2em;color: black;border-radius: 0.25em;background-color: #f0f8ff;}#sk-container-id-17 input.sk-toggleable__control:checked~div.sk-toggleable__content {max-height: 200px;max-width: 100%;overflow: auto;}#sk-container-id-17 input.sk-toggleable__control:checked~label.sk-toggleable__label-arrow:before {content: \"▾\";}#sk-container-id-17 div.sk-estimator input.sk-toggleable__control:checked~label.sk-toggleable__label {background-color: #d4ebff;}#sk-container-id-17 div.sk-label input.sk-toggleable__control:checked~label.sk-toggleable__label {background-color: #d4ebff;}#sk-container-id-17 input.sk-hidden--visually {border: 0;clip: rect(1px 1px 1px 1px);clip: rect(1px, 1px, 1px, 1px);height: 1px;margin: -1px;overflow: hidden;padding: 0;position: absolute;width: 1px;}#sk-container-id-17 div.sk-estimator {font-family: monospace;background-color: #f0f8ff;border: 1px dotted black;border-radius: 0.25em;box-sizing: border-box;margin-bottom: 0.5em;}#sk-container-id-17 div.sk-estimator:hover {background-color: #d4ebff;}#sk-container-id-17 div.sk-parallel-item::after {content: \"\";width: 100%;border-bottom: 1px solid gray;flex-grow: 1;}#sk-container-id-17 div.sk-label:hover label.sk-toggleable__label {background-color: #d4ebff;}#sk-container-id-17 div.sk-serial::before {content: \"\";position: absolute;border-left: 1px solid gray;box-sizing: border-box;top: 0;bottom: 0;left: 50%;z-index: 0;}#sk-container-id-17 div.sk-serial {display: flex;flex-direction: column;align-items: center;background-color: white;padding-right: 0.2em;padding-left: 0.2em;position: relative;}#sk-container-id-17 div.sk-item {position: relative;z-index: 1;}#sk-container-id-17 div.sk-parallel {display: flex;align-items: stretch;justify-content: center;background-color: white;position: relative;}#sk-container-id-17 div.sk-item::before, #sk-container-id-17 div.sk-parallel-item::before {content: \"\";position: absolute;border-left: 1px solid gray;box-sizing: border-box;top: 0;bottom: 0;left: 50%;z-index: -1;}#sk-container-id-17 div.sk-parallel-item {display: flex;flex-direction: column;z-index: 1;position: relative;background-color: white;}#sk-container-id-17 div.sk-parallel-item:first-child::after {align-self: flex-end;width: 50%;}#sk-container-id-17 div.sk-parallel-item:last-child::after {align-self: flex-start;width: 50%;}#sk-container-id-17 div.sk-parallel-item:only-child::after {width: 0;}#sk-container-id-17 div.sk-dashed-wrapped {border: 1px dashed gray;margin: 0 0.4em 0.5em 0.4em;box-sizing: border-box;padding-bottom: 0.4em;background-color: white;}#sk-container-id-17 div.sk-label label {font-family: monospace;font-weight: bold;display: inline-block;line-height: 1.2em;}#sk-container-id-17 div.sk-label-container {text-align: center;}#sk-container-id-17 div.sk-container {/* jupyter's `normalize.less` sets `[hidden] { display: none; }` but bootstrap.min.css set `[hidden] { display: none !important; }` so we also need the `!important` here to be able to override the default hidden behavior on the sphinx rendered scikit-learn.org. See: https://github.com/scikit-learn/scikit-learn/issues/21755 */display: inline-block !important;position: relative;}#sk-container-id-17 div.sk-text-repr-fallback {display: none;}</style><div id=\"sk-container-id-17\" class=\"sk-top-container\"><div class=\"sk-text-repr-fallback\"><pre>RandomForestRegressor()</pre><b>In a Jupyter environment, please rerun this cell to show the HTML representation or trust the notebook. <br />On GitHub, the HTML representation is unable to render, please try loading this page with nbviewer.org.</b></div><div class=\"sk-container\" hidden><div class=\"sk-item\"><div class=\"sk-estimator sk-toggleable\"><input class=\"sk-toggleable__control sk-hidden--visually\" id=\"sk-estimator-id-17\" type=\"checkbox\" checked><label for=\"sk-estimator-id-17\" class=\"sk-toggleable__label sk-toggleable__label-arrow\">RandomForestRegressor</label><div class=\"sk-toggleable__content\"><pre>RandomForestRegressor()</pre></div></div></div></div></div>"
      ],
      "text/plain": [
       "RandomForestRegressor()"
      ]
     },
     "execution_count": 950,
     "metadata": {},
     "output_type": "execute_result"
    }
   ],
   "source": [
    "model.fit(X_data,X_label)"
   ]
  },
  {
   "cell_type": "code",
   "execution_count": 951,
   "id": "4ba4653e",
   "metadata": {},
   "outputs": [],
   "source": [
    "some_data=X_data[:10]"
   ]
  },
  {
   "cell_type": "code",
   "execution_count": 952,
   "id": "7ac9deea",
   "metadata": {},
   "outputs": [],
   "source": [
    "some_labels=X_label[:10]"
   ]
  },
  {
   "cell_type": "code",
   "execution_count": 953,
   "id": "0d132ac7",
   "metadata": {},
   "outputs": [],
   "source": [
    "preds=model.predict(some_data)"
   ]
  },
  {
   "cell_type": "code",
   "execution_count": 954,
   "id": "50b39583",
   "metadata": {},
   "outputs": [
    {
     "data": {
      "text/plain": [
       "array([204448.73, 329274.64, 111554.26, 229076.75, 193029.  , 573984.95,\n",
       "       211412.  , 121286.05, 118685.5 ,  93732.  ])"
      ]
     },
     "execution_count": 954,
     "metadata": {},
     "output_type": "execute_result"
    }
   ],
   "source": [
    "preds"
   ]
  },
  {
   "cell_type": "code",
   "execution_count": 955,
   "id": "1e1923c5",
   "metadata": {},
   "outputs": [],
   "source": [
    "from sklearn.metrics import mean_squared_error"
   ]
  },
  {
   "cell_type": "code",
   "execution_count": 956,
   "id": "dbc21754",
   "metadata": {},
   "outputs": [
    {
     "data": {
      "text/plain": [
       "20269.18743020451"
      ]
     },
     "execution_count": 956,
     "metadata": {},
     "output_type": "execute_result"
    }
   ],
   "source": [
    "np.sqrt(mean_squared_error(some_labels,preds))"
   ]
  },
  {
   "cell_type": "code",
   "execution_count": 957,
   "id": "9d965f47",
   "metadata": {},
   "outputs": [],
   "source": [
    "y_data=y.drop('SalePrice',axis=1)"
   ]
  },
  {
   "cell_type": "code",
   "execution_count": 958,
   "id": "718416d8",
   "metadata": {},
   "outputs": [],
   "source": [
    "y_label=y['SalePrice']"
   ]
  },
  {
   "cell_type": "code",
   "execution_count": 959,
   "id": "56392926",
   "metadata": {},
   "outputs": [],
   "source": [
    "predictions=model.predict(y_data)"
   ]
  },
  {
   "cell_type": "code",
   "execution_count": 960,
   "id": "fb8778ff",
   "metadata": {},
   "outputs": [
    {
     "data": {
      "text/plain": [
       "36635.594428055505"
      ]
     },
     "execution_count": 960,
     "metadata": {},
     "output_type": "execute_result"
    }
   ],
   "source": [
    "np.sqrt(mean_squared_error(y_label,predictions))"
   ]
  },
  {
   "cell_type": "code",
   "execution_count": null,
   "id": "87f497c5",
   "metadata": {},
   "outputs": [],
   "source": []
  },
  {
   "cell_type": "code",
   "execution_count": 961,
   "id": "584d3eae",
   "metadata": {},
   "outputs": [],
   "source": [
    "# submission = pd.DataFrame()\n",
    "# submission['Id'] = test_ids\n",
    "# submission['SalePrice'] = preds"
   ]
  },
  {
   "cell_type": "code",
   "execution_count": 962,
   "id": "ea9ca24a",
   "metadata": {},
   "outputs": [],
   "source": [
    "# # Save the submission file\n",
    "# from pathlib import Path  \n",
    "# filepath = Path('submission.csv')  \n",
    "# filepath.parent.mkdir(parents=True, exist_ok=True)\n",
    "# submission.to_csv('submission.csv', sep=',', index=False)"
   ]
  },
  {
   "cell_type": "code",
   "execution_count": 963,
   "id": "50e48b02",
   "metadata": {},
   "outputs": [],
   "source": [
    "test_data=pd.read_csv(\"test.csv\")\n",
    "Test_High_Correlation_Columns=High_Correlation_Columns.copy()"
   ]
  },
  {
   "cell_type": "code",
   "execution_count": 964,
   "id": "721e884c",
   "metadata": {},
   "outputs": [],
   "source": [
    "test_ids=test_data['Id']"
   ]
  },
  {
   "cell_type": "code",
   "execution_count": 965,
   "id": "a592eb92",
   "metadata": {},
   "outputs": [],
   "source": [
    "\n",
    "test_exp_data=test_data[list(Test_High_Correlation_Columns)]\n"
   ]
  },
  {
   "cell_type": "code",
   "execution_count": 966,
   "id": "1c8fb997",
   "metadata": {},
   "outputs": [
    {
     "data": {
      "text/plain": [
       "Index(['OverallQual', 'TotalBsmtSF', 'YearRemodAdd', 'GarageArea', '1stFlrSF',\n",
       "       '2ndFlrSF', 'HalfBath', 'BsmtFinSF1', 'FullBath', 'GrLivArea',\n",
       "       'BedroomAbvGr', 'GarageCars', 'BsmtFullBath', 'TotRmsAbvGrd',\n",
       "       'HouseAge', 'GarageAge', 'SalePrice'],\n",
       "      dtype='object')"
      ]
     },
     "execution_count": 966,
     "metadata": {},
     "output_type": "execute_result"
    }
   ],
   "source": [
    "exp_data.columns"
   ]
  },
  {
   "cell_type": "code",
   "execution_count": 967,
   "id": "3b5434a6",
   "metadata": {},
   "outputs": [
    {
     "name": "stderr",
     "output_type": "stream",
     "text": [
      "C:\\Users\\Hp\\AppData\\Local\\Temp\\ipykernel_5768\\1495760842.py:1: SettingWithCopyWarning: \n",
      "A value is trying to be set on a copy of a slice from a DataFrame.\n",
      "Try using .loc[row_indexer,col_indexer] = value instead\n",
      "\n",
      "See the caveats in the documentation: https://pandas.pydata.org/pandas-docs/stable/user_guide/indexing.html#returning-a-view-versus-a-copy\n",
      "  test_exp_data['HouseAge']=datetime.now().year-test_exp_data['YearBuilt']\n",
      "C:\\Users\\Hp\\AppData\\Local\\Temp\\ipykernel_5768\\1495760842.py:2: SettingWithCopyWarning: \n",
      "A value is trying to be set on a copy of a slice from a DataFrame.\n",
      "Try using .loc[row_indexer,col_indexer] = value instead\n",
      "\n",
      "See the caveats in the documentation: https://pandas.pydata.org/pandas-docs/stable/user_guide/indexing.html#returning-a-view-versus-a-copy\n",
      "  test_exp_data['GarageAge']=datetime.now().year-test_exp_data['GarageYrBlt']\n",
      "C:\\Users\\Hp\\AppData\\Local\\Temp\\ipykernel_5768\\1495760842.py:3: SettingWithCopyWarning: \n",
      "A value is trying to be set on a copy of a slice from a DataFrame\n",
      "\n",
      "See the caveats in the documentation: https://pandas.pydata.org/pandas-docs/stable/user_guide/indexing.html#returning-a-view-versus-a-copy\n",
      "  test_exp_data.drop('YearBuilt',axis=1,inplace=True)\n",
      "C:\\Users\\Hp\\AppData\\Local\\Temp\\ipykernel_5768\\1495760842.py:4: SettingWithCopyWarning: \n",
      "A value is trying to be set on a copy of a slice from a DataFrame\n",
      "\n",
      "See the caveats in the documentation: https://pandas.pydata.org/pandas-docs/stable/user_guide/indexing.html#returning-a-view-versus-a-copy\n",
      "  test_exp_data.drop('GarageYrBlt',axis=1,inplace=True)\n"
     ]
    }
   ],
   "source": [
    "test_exp_data['HouseAge']=datetime.now().year-test_exp_data['YearBuilt']\n",
    "test_exp_data['GarageAge']=datetime.now().year-test_exp_data['GarageYrBlt']\n",
    "test_exp_data.drop('YearBuilt',axis=1,inplace=True)\n",
    "test_exp_data.drop('GarageYrBlt',axis=1,inplace=True)"
   ]
  },
  {
   "cell_type": "code",
   "execution_count": 968,
   "id": "c1587d4f",
   "metadata": {},
   "outputs": [
    {
     "name": "stderr",
     "output_type": "stream",
     "text": [
      "C:\\Users\\Hp\\AppData\\Local\\Temp\\ipykernel_5768\\979209537.py:3: SettingWithCopyWarning: \n",
      "A value is trying to be set on a copy of a slice from a DataFrame\n",
      "\n",
      "See the caveats in the documentation: https://pandas.pydata.org/pandas-docs/stable/user_guide/indexing.html#returning-a-view-versus-a-copy\n",
      "  test_exp_data[i].fillna(exp_data[i].mean(),inplace=True)\n"
     ]
    }
   ],
   "source": [
    "for i , j in zip (test_exp_data.columns,test_exp_data.isnull().sum()):\n",
    "    if j>0:\n",
    "        test_exp_data[i].fillna(exp_data[i].mean(),inplace=True)"
   ]
  },
  {
   "cell_type": "code",
   "execution_count": 969,
   "id": "5f51dc48",
   "metadata": {},
   "outputs": [
    {
     "name": "stderr",
     "output_type": "stream",
     "text": [
      "C:\\Users\\Hp\\Anaconda3\\envs\\housingenv\\lib\\site-packages\\sklearn\\base.py:493: FutureWarning: The feature names should match those that were passed during fit. Starting version 1.2, an error will be raised.\n",
      "Feature names must be in the same order as they were in fit.\n",
      "\n",
      "  warnings.warn(message, FutureWarning)\n"
     ]
    }
   ],
   "source": [
    "pred=model.predict(test_exp_data)"
   ]
  },
  {
   "cell_type": "code",
   "execution_count": 970,
   "id": "7624bb18",
   "metadata": {},
   "outputs": [],
   "source": [
    "submission = pd.DataFrame()\n",
    "submission['Id'] = test_ids\n",
    "submission['SalePrice'] = pred"
   ]
  },
  {
   "cell_type": "code",
   "execution_count": 971,
   "id": "50f62c80",
   "metadata": {},
   "outputs": [],
   "source": [
    "# Save the submission file\n",
    "from pathlib import Path  \n",
    "filepath = Path('submission.csv')  \n",
    "filepath.parent.mkdir(parents=True, exist_ok=True)\n",
    "submission.to_csv('submission.csv', sep=',', index=False)"
   ]
  },
  {
   "cell_type": "code",
   "execution_count": null,
   "id": "80bdedc6",
   "metadata": {},
   "outputs": [],
   "source": []
  }
 ],
 "metadata": {
  "kernelspec": {
   "display_name": "Python 3",
   "language": "python",
   "name": "python3"
  },
  "language_info": {
   "codemirror_mode": {
    "name": "ipython",
    "version": 3
   },
   "file_extension": ".py",
   "mimetype": "text/x-python",
   "name": "python",
   "nbconvert_exporter": "python",
   "pygments_lexer": "ipython3",
   "version": "3.8.13"
  }
 },
 "nbformat": 4,
 "nbformat_minor": 5
}
