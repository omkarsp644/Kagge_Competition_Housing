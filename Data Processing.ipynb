{
 "cells": [
  {
   "cell_type": "code",
   "execution_count": 904,
   "id": "087ed6ad",
   "metadata": {},
   "outputs": [],
   "source": [
    "MIN_CORR=0.6"
   ]
  },
  {
   "cell_type": "code",
   "execution_count": 905,
   "id": "b342ab22",
   "metadata": {},
   "outputs": [],
   "source": [
    "import pandas as pd"
   ]
  },
  {
   "cell_type": "code",
   "execution_count": 906,
   "id": "e554f7f4",
   "metadata": {},
   "outputs": [],
   "source": [
    "import numpy as np"
   ]
  },
  {
   "cell_type": "code",
   "execution_count": 907,
   "id": "d97821a3",
   "metadata": {},
   "outputs": [],
   "source": [
    "data=pd.read_csv(\"train.csv\")"
   ]
  },
  {
   "cell_type": "code",
   "execution_count": 908,
   "id": "cdfe83dd",
   "metadata": {},
   "outputs": [
    {
     "name": "stdout",
     "output_type": "stream",
     "text": [
      "Main Data has 1460 Records with 81 Attributes\n"
     ]
    }
   ],
   "source": [
    "print (\"Main Data has {} Records with {} Attributes\".format(len(main_data),len(main_data.columns)))"
   ]
  },
  {
   "cell_type": "code",
   "execution_count": 909,
   "id": "ac9d7ce0",
   "metadata": {},
   "outputs": [
    {
     "data": {
      "text/html": [
       "<div>\n",
       "<style scoped>\n",
       "    .dataframe tbody tr th:only-of-type {\n",
       "        vertical-align: middle;\n",
       "    }\n",
       "\n",
       "    .dataframe tbody tr th {\n",
       "        vertical-align: top;\n",
       "    }\n",
       "\n",
       "    .dataframe thead th {\n",
       "        text-align: right;\n",
       "    }\n",
       "</style>\n",
       "<table border=\"1\" class=\"dataframe\">\n",
       "  <thead>\n",
       "    <tr style=\"text-align: right;\">\n",
       "      <th></th>\n",
       "      <th>Id</th>\n",
       "      <th>MSSubClass</th>\n",
       "      <th>MSZoning</th>\n",
       "      <th>LotFrontage</th>\n",
       "      <th>LotArea</th>\n",
       "      <th>Street</th>\n",
       "      <th>Alley</th>\n",
       "      <th>LotShape</th>\n",
       "      <th>LandContour</th>\n",
       "      <th>Utilities</th>\n",
       "      <th>...</th>\n",
       "      <th>PoolArea</th>\n",
       "      <th>PoolQC</th>\n",
       "      <th>Fence</th>\n",
       "      <th>MiscFeature</th>\n",
       "      <th>MiscVal</th>\n",
       "      <th>MoSold</th>\n",
       "      <th>YrSold</th>\n",
       "      <th>SaleType</th>\n",
       "      <th>SaleCondition</th>\n",
       "      <th>SalePrice</th>\n",
       "    </tr>\n",
       "  </thead>\n",
       "  <tbody>\n",
       "    <tr>\n",
       "      <th>0</th>\n",
       "      <td>1</td>\n",
       "      <td>60</td>\n",
       "      <td>RL</td>\n",
       "      <td>65.0</td>\n",
       "      <td>8450</td>\n",
       "      <td>Pave</td>\n",
       "      <td>NaN</td>\n",
       "      <td>Reg</td>\n",
       "      <td>Lvl</td>\n",
       "      <td>AllPub</td>\n",
       "      <td>...</td>\n",
       "      <td>0</td>\n",
       "      <td>NaN</td>\n",
       "      <td>NaN</td>\n",
       "      <td>NaN</td>\n",
       "      <td>0</td>\n",
       "      <td>2</td>\n",
       "      <td>2008</td>\n",
       "      <td>WD</td>\n",
       "      <td>Normal</td>\n",
       "      <td>208500</td>\n",
       "    </tr>\n",
       "    <tr>\n",
       "      <th>1</th>\n",
       "      <td>2</td>\n",
       "      <td>20</td>\n",
       "      <td>RL</td>\n",
       "      <td>80.0</td>\n",
       "      <td>9600</td>\n",
       "      <td>Pave</td>\n",
       "      <td>NaN</td>\n",
       "      <td>Reg</td>\n",
       "      <td>Lvl</td>\n",
       "      <td>AllPub</td>\n",
       "      <td>...</td>\n",
       "      <td>0</td>\n",
       "      <td>NaN</td>\n",
       "      <td>NaN</td>\n",
       "      <td>NaN</td>\n",
       "      <td>0</td>\n",
       "      <td>5</td>\n",
       "      <td>2007</td>\n",
       "      <td>WD</td>\n",
       "      <td>Normal</td>\n",
       "      <td>181500</td>\n",
       "    </tr>\n",
       "  </tbody>\n",
       "</table>\n",
       "<p>2 rows × 81 columns</p>\n",
       "</div>"
      ],
      "text/plain": [
       "   Id  MSSubClass MSZoning  LotFrontage  LotArea Street Alley LotShape  \\\n",
       "0   1          60       RL         65.0     8450   Pave   NaN      Reg   \n",
       "1   2          20       RL         80.0     9600   Pave   NaN      Reg   \n",
       "\n",
       "  LandContour Utilities  ... PoolArea PoolQC Fence MiscFeature MiscVal MoSold  \\\n",
       "0         Lvl    AllPub  ...        0    NaN   NaN         NaN       0      2   \n",
       "1         Lvl    AllPub  ...        0    NaN   NaN         NaN       0      5   \n",
       "\n",
       "  YrSold  SaleType  SaleCondition  SalePrice  \n",
       "0   2008        WD         Normal     208500  \n",
       "1   2007        WD         Normal     181500  \n",
       "\n",
       "[2 rows x 81 columns]"
      ]
     },
     "execution_count": 909,
     "metadata": {},
     "output_type": "execute_result"
    }
   ],
   "source": [
    "data.head(2)"
   ]
  },
  {
   "cell_type": "code",
   "execution_count": 910,
   "id": "d3ac7c5d",
   "metadata": {},
   "outputs": [
    {
     "data": {
      "text/plain": [
       "Index(['Id', 'MSSubClass', 'MSZoning', 'LotFrontage', 'LotArea', 'Street',\n",
       "       'Alley', 'LotShape', 'LandContour', 'Utilities', 'LotConfig',\n",
       "       'LandSlope', 'Neighborhood', 'Condition1', 'Condition2', 'BldgType',\n",
       "       'HouseStyle', 'OverallQual', 'OverallCond', 'YearBuilt', 'YearRemodAdd',\n",
       "       'RoofStyle', 'RoofMatl', 'Exterior1st', 'Exterior2nd', 'MasVnrType',\n",
       "       'MasVnrArea', 'ExterQual', 'ExterCond', 'Foundation', 'BsmtQual',\n",
       "       'BsmtCond', 'BsmtExposure', 'BsmtFinType1', 'BsmtFinSF1',\n",
       "       'BsmtFinType2', 'BsmtFinSF2', 'BsmtUnfSF', 'TotalBsmtSF', 'Heating',\n",
       "       'HeatingQC', 'CentralAir', 'Electrical', '1stFlrSF', '2ndFlrSF',\n",
       "       'LowQualFinSF', 'GrLivArea', 'BsmtFullBath', 'BsmtHalfBath', 'FullBath',\n",
       "       'HalfBath', 'BedroomAbvGr', 'KitchenAbvGr', 'KitchenQual',\n",
       "       'TotRmsAbvGrd', 'Functional', 'Fireplaces', 'FireplaceQu', 'GarageType',\n",
       "       'GarageYrBlt', 'GarageFinish', 'GarageCars', 'GarageArea', 'GarageQual',\n",
       "       'GarageCond', 'PavedDrive', 'WoodDeckSF', 'OpenPorchSF',\n",
       "       'EnclosedPorch', '3SsnPorch', 'ScreenPorch', 'PoolArea', 'PoolQC',\n",
       "       'Fence', 'MiscFeature', 'MiscVal', 'MoSold', 'YrSold', 'SaleType',\n",
       "       'SaleCondition', 'SalePrice'],\n",
       "      dtype='object')"
      ]
     },
     "execution_count": 910,
     "metadata": {},
     "output_type": "execute_result"
    }
   ],
   "source": [
    "data.columns"
   ]
  },
  {
   "cell_type": "code",
   "execution_count": 911,
   "id": "ae92f4f1",
   "metadata": {},
   "outputs": [],
   "source": [
    "def train_test_split_formatted_method(data,ratio):\n",
    "    if ratio>1:\n",
    "        print (\"Ratio must be in format of 0.xx\")\n",
    "        return;\n",
    "    shuffled_indices=np.random.permutation(len(data))\n",
    "    print (\"Indices Shuffled..\")\n",
    "    test_set_size=int(len(data)*ratio)\n",
    "    test_indices=shuffled_indices[:test_set_size]\n",
    "    train_indices=shuffled_indices[test_set_size:]\n",
    "    \n",
    "    return data.iloc[train_indices],data.iloc[test_indices]"
   ]
  },
  {
   "cell_type": "code",
   "execution_count": 912,
   "id": "dac1942b",
   "metadata": {},
   "outputs": [],
   "source": [
    "# train_data,test_data=train_test_split_formatted_method(main_data,0.2)"
   ]
  },
  {
   "cell_type": "code",
   "execution_count": 869,
   "id": "80dc351e",
   "metadata": {},
   "outputs": [],
   "source": [
    "# print (\"Train Data Size {} \\nTest Data Size {}\".format(len(train_data),len(test_data)))"
   ]
  },
  {
   "cell_type": "code",
   "execution_count": 913,
   "id": "90ec45c1",
   "metadata": {},
   "outputs": [
    {
     "name": "stdout",
     "output_type": "stream",
     "text": [
      "Column OverallQual and GarageCars\n",
      "Column OverallQual and SalePrice\n",
      "Column YearBuilt and GarageYrBlt\n",
      "Column YearRemodAdd and GarageYrBlt\n",
      "Column BsmtFinSF1 and BsmtFullBath\n",
      "Column TotalBsmtSF and 1stFlrSF\n",
      "Column TotalBsmtSF and SalePrice\n",
      "Column 1stFlrSF and TotalBsmtSF\n",
      "Column 1stFlrSF and SalePrice\n",
      "Column 2ndFlrSF and GrLivArea\n",
      "Column 2ndFlrSF and HalfBath\n",
      "Column 2ndFlrSF and TotRmsAbvGrd\n",
      "Column GrLivArea and 2ndFlrSF\n",
      "Column GrLivArea and FullBath\n",
      "Column GrLivArea and TotRmsAbvGrd\n",
      "Column GrLivArea and SalePrice\n",
      "Column BsmtFullBath and BsmtFinSF1\n",
      "Column FullBath and GrLivArea\n",
      "Column HalfBath and 2ndFlrSF\n",
      "Column BedroomAbvGr and TotRmsAbvGrd\n",
      "Column TotRmsAbvGrd and 2ndFlrSF\n",
      "Column TotRmsAbvGrd and GrLivArea\n",
      "Column TotRmsAbvGrd and BedroomAbvGr\n",
      "Column GarageYrBlt and YearBuilt\n",
      "Column GarageYrBlt and YearRemodAdd\n",
      "Column GarageCars and OverallQual\n",
      "Column GarageCars and GarageArea\n",
      "Column GarageCars and SalePrice\n",
      "Column GarageArea and GarageCars\n",
      "Column GarageArea and SalePrice\n",
      "Column SalePrice and OverallQual\n",
      "Column SalePrice and TotalBsmtSF\n",
      "Column SalePrice and 1stFlrSF\n",
      "Column SalePrice and GrLivArea\n",
      "Column SalePrice and GarageCars\n",
      "Column SalePrice and GarageArea\n"
     ]
    }
   ],
   "source": [
    "High_Correlation_Columns=set()\n",
    "for i in data.columns:\n",
    "    for j in data.columns:\n",
    "        if data[i].dtype in ['int64','float64'] and data[j].dtype in ['int64','float64']:\n",
    "            cor=data[i].corr(data[j])\n",
    "            if cor >= MIN_CORR and cor<0.999:\n",
    "                print (\"Column {} and {}\".format(i,j))\n",
    "                High_Correlation_Columns.add(i)\n",
    "                High_Correlation_Columns.add(j)\n",
    "            "
   ]
  },
  {
   "cell_type": "code",
   "execution_count": 914,
   "id": "1b624c24",
   "metadata": {},
   "outputs": [],
   "source": [
    "main_data_labels=data['SalePrice']\n",
    "data.drop('SalePrice',axis=1,inplace=True)"
   ]
  },
  {
   "cell_type": "code",
   "execution_count": 915,
   "id": "a5ec6714",
   "metadata": {},
   "outputs": [
    {
     "data": {
      "text/plain": [
       "17"
      ]
     },
     "execution_count": 915,
     "metadata": {},
     "output_type": "execute_result"
    }
   ],
   "source": [
    "len(High_Correlation_Columns)"
   ]
  },
  {
   "cell_type": "code",
   "execution_count": 916,
   "id": "143dd50b",
   "metadata": {},
   "outputs": [
    {
     "ename": "KeyError",
     "evalue": "\"['SalePrice'] not in index\"",
     "output_type": "error",
     "traceback": [
      "\u001b[1;31m---------------------------------------------------------------------------\u001b[0m",
      "\u001b[1;31mKeyError\u001b[0m                                  Traceback (most recent call last)",
      "Input \u001b[1;32mIn [916]\u001b[0m, in \u001b[0;36m<cell line: 1>\u001b[1;34m()\u001b[0m\n\u001b[1;32m----> 1\u001b[0m exp_data\u001b[38;5;241m=\u001b[39m\u001b[43mdata\u001b[49m\u001b[43m[\u001b[49m\u001b[38;5;28;43mlist\u001b[39;49m\u001b[43m(\u001b[49m\u001b[43mHigh_Correlation_Columns\u001b[49m\u001b[43m)\u001b[49m\u001b[43m]\u001b[49m\n",
      "File \u001b[1;32m~\\Anaconda3\\envs\\housingenv\\lib\\site-packages\\pandas\\core\\frame.py:3511\u001b[0m, in \u001b[0;36mDataFrame.__getitem__\u001b[1;34m(self, key)\u001b[0m\n\u001b[0;32m   3509\u001b[0m     \u001b[38;5;28;01mif\u001b[39;00m is_iterator(key):\n\u001b[0;32m   3510\u001b[0m         key \u001b[38;5;241m=\u001b[39m \u001b[38;5;28mlist\u001b[39m(key)\n\u001b[1;32m-> 3511\u001b[0m     indexer \u001b[38;5;241m=\u001b[39m \u001b[38;5;28;43mself\u001b[39;49m\u001b[38;5;241;43m.\u001b[39;49m\u001b[43mcolumns\u001b[49m\u001b[38;5;241;43m.\u001b[39;49m\u001b[43m_get_indexer_strict\u001b[49m\u001b[43m(\u001b[49m\u001b[43mkey\u001b[49m\u001b[43m,\u001b[49m\u001b[43m \u001b[49m\u001b[38;5;124;43m\"\u001b[39;49m\u001b[38;5;124;43mcolumns\u001b[39;49m\u001b[38;5;124;43m\"\u001b[39;49m\u001b[43m)\u001b[49m[\u001b[38;5;241m1\u001b[39m]\n\u001b[0;32m   3513\u001b[0m \u001b[38;5;66;03m# take() does not accept boolean indexers\u001b[39;00m\n\u001b[0;32m   3514\u001b[0m \u001b[38;5;28;01mif\u001b[39;00m \u001b[38;5;28mgetattr\u001b[39m(indexer, \u001b[38;5;124m\"\u001b[39m\u001b[38;5;124mdtype\u001b[39m\u001b[38;5;124m\"\u001b[39m, \u001b[38;5;28;01mNone\u001b[39;00m) \u001b[38;5;241m==\u001b[39m \u001b[38;5;28mbool\u001b[39m:\n",
      "File \u001b[1;32m~\\Anaconda3\\envs\\housingenv\\lib\\site-packages\\pandas\\core\\indexes\\base.py:5782\u001b[0m, in \u001b[0;36mIndex._get_indexer_strict\u001b[1;34m(self, key, axis_name)\u001b[0m\n\u001b[0;32m   5779\u001b[0m \u001b[38;5;28;01melse\u001b[39;00m:\n\u001b[0;32m   5780\u001b[0m     keyarr, indexer, new_indexer \u001b[38;5;241m=\u001b[39m \u001b[38;5;28mself\u001b[39m\u001b[38;5;241m.\u001b[39m_reindex_non_unique(keyarr)\n\u001b[1;32m-> 5782\u001b[0m \u001b[38;5;28;43mself\u001b[39;49m\u001b[38;5;241;43m.\u001b[39;49m\u001b[43m_raise_if_missing\u001b[49m\u001b[43m(\u001b[49m\u001b[43mkeyarr\u001b[49m\u001b[43m,\u001b[49m\u001b[43m \u001b[49m\u001b[43mindexer\u001b[49m\u001b[43m,\u001b[49m\u001b[43m \u001b[49m\u001b[43maxis_name\u001b[49m\u001b[43m)\u001b[49m\n\u001b[0;32m   5784\u001b[0m keyarr \u001b[38;5;241m=\u001b[39m \u001b[38;5;28mself\u001b[39m\u001b[38;5;241m.\u001b[39mtake(indexer)\n\u001b[0;32m   5785\u001b[0m \u001b[38;5;28;01mif\u001b[39;00m \u001b[38;5;28misinstance\u001b[39m(key, Index):\n\u001b[0;32m   5786\u001b[0m     \u001b[38;5;66;03m# GH 42790 - Preserve name from an Index\u001b[39;00m\n",
      "File \u001b[1;32m~\\Anaconda3\\envs\\housingenv\\lib\\site-packages\\pandas\\core\\indexes\\base.py:5845\u001b[0m, in \u001b[0;36mIndex._raise_if_missing\u001b[1;34m(self, key, indexer, axis_name)\u001b[0m\n\u001b[0;32m   5842\u001b[0m     \u001b[38;5;28;01mraise\u001b[39;00m \u001b[38;5;167;01mKeyError\u001b[39;00m(\u001b[38;5;124mf\u001b[39m\u001b[38;5;124m\"\u001b[39m\u001b[38;5;124mNone of [\u001b[39m\u001b[38;5;132;01m{\u001b[39;00mkey\u001b[38;5;132;01m}\u001b[39;00m\u001b[38;5;124m] are in the [\u001b[39m\u001b[38;5;132;01m{\u001b[39;00maxis_name\u001b[38;5;132;01m}\u001b[39;00m\u001b[38;5;124m]\u001b[39m\u001b[38;5;124m\"\u001b[39m)\n\u001b[0;32m   5844\u001b[0m not_found \u001b[38;5;241m=\u001b[39m \u001b[38;5;28mlist\u001b[39m(ensure_index(key)[missing_mask\u001b[38;5;241m.\u001b[39mnonzero()[\u001b[38;5;241m0\u001b[39m]]\u001b[38;5;241m.\u001b[39munique())\n\u001b[1;32m-> 5845\u001b[0m \u001b[38;5;28;01mraise\u001b[39;00m \u001b[38;5;167;01mKeyError\u001b[39;00m(\u001b[38;5;124mf\u001b[39m\u001b[38;5;124m\"\u001b[39m\u001b[38;5;132;01m{\u001b[39;00mnot_found\u001b[38;5;132;01m}\u001b[39;00m\u001b[38;5;124m not in index\u001b[39m\u001b[38;5;124m\"\u001b[39m)\n",
      "\u001b[1;31mKeyError\u001b[0m: \"['SalePrice'] not in index\""
     ]
    }
   ],
   "source": [
    "exp_data=data[list(High_Correlation_Columns)]"
   ]
  },
  {
   "cell_type": "code",
   "execution_count": 917,
   "id": "00f411f2",
   "metadata": {},
   "outputs": [
    {
     "data": {
      "text/html": [
       "<div>\n",
       "<style scoped>\n",
       "    .dataframe tbody tr th:only-of-type {\n",
       "        vertical-align: middle;\n",
       "    }\n",
       "\n",
       "    .dataframe tbody tr th {\n",
       "        vertical-align: top;\n",
       "    }\n",
       "\n",
       "    .dataframe thead th {\n",
       "        text-align: right;\n",
       "    }\n",
       "</style>\n",
       "<table border=\"1\" class=\"dataframe\">\n",
       "  <thead>\n",
       "    <tr style=\"text-align: right;\">\n",
       "      <th></th>\n",
       "      <th>TotalBsmtSF</th>\n",
       "      <th>GarageArea</th>\n",
       "      <th>1stFlrSF</th>\n",
       "      <th>2ndFlrSF</th>\n",
       "      <th>GrLivArea</th>\n",
       "      <th>BedroomAbvGr</th>\n",
       "      <th>GarageCars</th>\n",
       "      <th>TotRmsAbvGrd</th>\n",
       "      <th>HouseAge</th>\n",
       "      <th>GarageAge</th>\n",
       "      <th>SalePrice</th>\n",
       "    </tr>\n",
       "  </thead>\n",
       "  <tbody>\n",
       "    <tr>\n",
       "      <th>0</th>\n",
       "      <td>856</td>\n",
       "      <td>548</td>\n",
       "      <td>856</td>\n",
       "      <td>854</td>\n",
       "      <td>1710</td>\n",
       "      <td>3</td>\n",
       "      <td>2</td>\n",
       "      <td>8</td>\n",
       "      <td>19</td>\n",
       "      <td>19.0</td>\n",
       "      <td>208500</td>\n",
       "    </tr>\n",
       "    <tr>\n",
       "      <th>1</th>\n",
       "      <td>1262</td>\n",
       "      <td>460</td>\n",
       "      <td>1262</td>\n",
       "      <td>0</td>\n",
       "      <td>1262</td>\n",
       "      <td>3</td>\n",
       "      <td>2</td>\n",
       "      <td>6</td>\n",
       "      <td>46</td>\n",
       "      <td>46.0</td>\n",
       "      <td>181500</td>\n",
       "    </tr>\n",
       "    <tr>\n",
       "      <th>2</th>\n",
       "      <td>920</td>\n",
       "      <td>608</td>\n",
       "      <td>920</td>\n",
       "      <td>866</td>\n",
       "      <td>1786</td>\n",
       "      <td>3</td>\n",
       "      <td>2</td>\n",
       "      <td>6</td>\n",
       "      <td>21</td>\n",
       "      <td>21.0</td>\n",
       "      <td>223500</td>\n",
       "    </tr>\n",
       "    <tr>\n",
       "      <th>3</th>\n",
       "      <td>756</td>\n",
       "      <td>642</td>\n",
       "      <td>961</td>\n",
       "      <td>756</td>\n",
       "      <td>1717</td>\n",
       "      <td>3</td>\n",
       "      <td>3</td>\n",
       "      <td>7</td>\n",
       "      <td>107</td>\n",
       "      <td>24.0</td>\n",
       "      <td>140000</td>\n",
       "    </tr>\n",
       "    <tr>\n",
       "      <th>4</th>\n",
       "      <td>1145</td>\n",
       "      <td>836</td>\n",
       "      <td>1145</td>\n",
       "      <td>1053</td>\n",
       "      <td>2198</td>\n",
       "      <td>4</td>\n",
       "      <td>3</td>\n",
       "      <td>9</td>\n",
       "      <td>22</td>\n",
       "      <td>22.0</td>\n",
       "      <td>250000</td>\n",
       "    </tr>\n",
       "  </tbody>\n",
       "</table>\n",
       "</div>"
      ],
      "text/plain": [
       "   TotalBsmtSF  GarageArea  1stFlrSF  2ndFlrSF  GrLivArea  BedroomAbvGr  \\\n",
       "0          856         548       856       854       1710             3   \n",
       "1         1262         460      1262         0       1262             3   \n",
       "2          920         608       920       866       1786             3   \n",
       "3          756         642       961       756       1717             3   \n",
       "4         1145         836      1145      1053       2198             4   \n",
       "\n",
       "   GarageCars  TotRmsAbvGrd  HouseAge  GarageAge  SalePrice  \n",
       "0           2             8        19       19.0     208500  \n",
       "1           2             6        46       46.0     181500  \n",
       "2           2             6        21       21.0     223500  \n",
       "3           3             7       107       24.0     140000  \n",
       "4           3             9        22       22.0     250000  "
      ]
     },
     "execution_count": 917,
     "metadata": {},
     "output_type": "execute_result"
    }
   ],
   "source": [
    "exp_data.head()"
   ]
  },
  {
   "cell_type": "code",
   "execution_count": 875,
   "id": "c139ff2e",
   "metadata": {},
   "outputs": [
    {
     "data": {
      "text/plain": [
       "TotalBsmtSF      0\n",
       "GarageArea       0\n",
       "1stFlrSF         0\n",
       "GarageYrBlt     81\n",
       "2ndFlrSF         0\n",
       "YearBuilt        0\n",
       "GrLivArea        0\n",
       "BedroomAbvGr     0\n",
       "GarageCars       0\n",
       "TotRmsAbvGrd     0\n",
       "dtype: int64"
      ]
     },
     "execution_count": 875,
     "metadata": {},
     "output_type": "execute_result"
    }
   ],
   "source": [
    "exp_data.isnull().sum()"
   ]
  },
  {
   "cell_type": "code",
   "execution_count": 876,
   "id": "b0fce545",
   "metadata": {},
   "outputs": [
    {
     "data": {
      "text/plain": [
       "1978.5061638868744"
      ]
     },
     "execution_count": 876,
     "metadata": {},
     "output_type": "execute_result"
    }
   ],
   "source": [
    "exp_data.GarageYrBlt.mean()"
   ]
  },
  {
   "cell_type": "code",
   "execution_count": 877,
   "id": "51df8355",
   "metadata": {},
   "outputs": [
    {
     "name": "stderr",
     "output_type": "stream",
     "text": [
      "C:\\Users\\Hp\\AppData\\Local\\Temp\\ipykernel_5768\\1544574886.py:1: SettingWithCopyWarning: \n",
      "A value is trying to be set on a copy of a slice from a DataFrame\n",
      "\n",
      "See the caveats in the documentation: https://pandas.pydata.org/pandas-docs/stable/user_guide/indexing.html#returning-a-view-versus-a-copy\n",
      "  exp_data['GarageYrBlt'].fillna(exp_data['GarageYrBlt'].mean(),inplace=True)\n"
     ]
    }
   ],
   "source": [
    "exp_data['GarageYrBlt'].fillna(exp_data['GarageYrBlt'].mean(),inplace=True)\n",
    "\n",
    "for i , j in zip (exp_data.columns,exp_data.isnull().sum()):\n",
    "    if j>0:\n",
    "        exp_data[i].fillna(exp_data[i].mean(),inplace=True)"
   ]
  },
  {
   "cell_type": "code",
   "execution_count": 878,
   "id": "c91b3052",
   "metadata": {},
   "outputs": [
    {
     "data": {
      "text/plain": [
       "TotalBsmtSF     0\n",
       "GarageArea      0\n",
       "1stFlrSF        0\n",
       "GarageYrBlt     0\n",
       "2ndFlrSF        0\n",
       "YearBuilt       0\n",
       "GrLivArea       0\n",
       "BedroomAbvGr    0\n",
       "GarageCars      0\n",
       "TotRmsAbvGrd    0\n",
       "dtype: int64"
      ]
     },
     "execution_count": 878,
     "metadata": {},
     "output_type": "execute_result"
    }
   ],
   "source": [
    "exp_data.isnull().sum()"
   ]
  },
  {
   "cell_type": "code",
   "execution_count": 879,
   "id": "c7179e8b",
   "metadata": {},
   "outputs": [
    {
     "data": {
      "text/html": [
       "<div>\n",
       "<style scoped>\n",
       "    .dataframe tbody tr th:only-of-type {\n",
       "        vertical-align: middle;\n",
       "    }\n",
       "\n",
       "    .dataframe tbody tr th {\n",
       "        vertical-align: top;\n",
       "    }\n",
       "\n",
       "    .dataframe thead th {\n",
       "        text-align: right;\n",
       "    }\n",
       "</style>\n",
       "<table border=\"1\" class=\"dataframe\">\n",
       "  <thead>\n",
       "    <tr style=\"text-align: right;\">\n",
       "      <th></th>\n",
       "      <th>TotalBsmtSF</th>\n",
       "      <th>GarageArea</th>\n",
       "      <th>1stFlrSF</th>\n",
       "      <th>GarageYrBlt</th>\n",
       "      <th>2ndFlrSF</th>\n",
       "      <th>YearBuilt</th>\n",
       "      <th>GrLivArea</th>\n",
       "      <th>BedroomAbvGr</th>\n",
       "      <th>GarageCars</th>\n",
       "      <th>TotRmsAbvGrd</th>\n",
       "    </tr>\n",
       "  </thead>\n",
       "  <tbody>\n",
       "    <tr>\n",
       "      <th>count</th>\n",
       "      <td>1460.000000</td>\n",
       "      <td>1460.000000</td>\n",
       "      <td>1460.000000</td>\n",
       "      <td>1460.000000</td>\n",
       "      <td>1460.000000</td>\n",
       "      <td>1460.000000</td>\n",
       "      <td>1460.000000</td>\n",
       "      <td>1460.000000</td>\n",
       "      <td>1460.000000</td>\n",
       "      <td>1460.000000</td>\n",
       "    </tr>\n",
       "    <tr>\n",
       "      <th>mean</th>\n",
       "      <td>1057.429452</td>\n",
       "      <td>472.980137</td>\n",
       "      <td>1162.626712</td>\n",
       "      <td>1978.506164</td>\n",
       "      <td>346.992466</td>\n",
       "      <td>1971.267808</td>\n",
       "      <td>1515.463699</td>\n",
       "      <td>2.866438</td>\n",
       "      <td>1.767123</td>\n",
       "      <td>6.517808</td>\n",
       "    </tr>\n",
       "    <tr>\n",
       "      <th>std</th>\n",
       "      <td>438.705324</td>\n",
       "      <td>213.804841</td>\n",
       "      <td>386.587738</td>\n",
       "      <td>23.994583</td>\n",
       "      <td>436.528436</td>\n",
       "      <td>30.202904</td>\n",
       "      <td>525.480383</td>\n",
       "      <td>0.815778</td>\n",
       "      <td>0.747315</td>\n",
       "      <td>1.625393</td>\n",
       "    </tr>\n",
       "    <tr>\n",
       "      <th>min</th>\n",
       "      <td>0.000000</td>\n",
       "      <td>0.000000</td>\n",
       "      <td>334.000000</td>\n",
       "      <td>1900.000000</td>\n",
       "      <td>0.000000</td>\n",
       "      <td>1872.000000</td>\n",
       "      <td>334.000000</td>\n",
       "      <td>0.000000</td>\n",
       "      <td>0.000000</td>\n",
       "      <td>2.000000</td>\n",
       "    </tr>\n",
       "    <tr>\n",
       "      <th>25%</th>\n",
       "      <td>795.750000</td>\n",
       "      <td>334.500000</td>\n",
       "      <td>882.000000</td>\n",
       "      <td>1962.000000</td>\n",
       "      <td>0.000000</td>\n",
       "      <td>1954.000000</td>\n",
       "      <td>1129.500000</td>\n",
       "      <td>2.000000</td>\n",
       "      <td>1.000000</td>\n",
       "      <td>5.000000</td>\n",
       "    </tr>\n",
       "    <tr>\n",
       "      <th>50%</th>\n",
       "      <td>991.500000</td>\n",
       "      <td>480.000000</td>\n",
       "      <td>1087.000000</td>\n",
       "      <td>1978.506164</td>\n",
       "      <td>0.000000</td>\n",
       "      <td>1973.000000</td>\n",
       "      <td>1464.000000</td>\n",
       "      <td>3.000000</td>\n",
       "      <td>2.000000</td>\n",
       "      <td>6.000000</td>\n",
       "    </tr>\n",
       "    <tr>\n",
       "      <th>75%</th>\n",
       "      <td>1298.250000</td>\n",
       "      <td>576.000000</td>\n",
       "      <td>1391.250000</td>\n",
       "      <td>2001.000000</td>\n",
       "      <td>728.000000</td>\n",
       "      <td>2000.000000</td>\n",
       "      <td>1776.750000</td>\n",
       "      <td>3.000000</td>\n",
       "      <td>2.000000</td>\n",
       "      <td>7.000000</td>\n",
       "    </tr>\n",
       "    <tr>\n",
       "      <th>max</th>\n",
       "      <td>6110.000000</td>\n",
       "      <td>1418.000000</td>\n",
       "      <td>4692.000000</td>\n",
       "      <td>2010.000000</td>\n",
       "      <td>2065.000000</td>\n",
       "      <td>2010.000000</td>\n",
       "      <td>5642.000000</td>\n",
       "      <td>8.000000</td>\n",
       "      <td>4.000000</td>\n",
       "      <td>14.000000</td>\n",
       "    </tr>\n",
       "  </tbody>\n",
       "</table>\n",
       "</div>"
      ],
      "text/plain": [
       "       TotalBsmtSF   GarageArea     1stFlrSF  GarageYrBlt     2ndFlrSF  \\\n",
       "count  1460.000000  1460.000000  1460.000000  1460.000000  1460.000000   \n",
       "mean   1057.429452   472.980137  1162.626712  1978.506164   346.992466   \n",
       "std     438.705324   213.804841   386.587738    23.994583   436.528436   \n",
       "min       0.000000     0.000000   334.000000  1900.000000     0.000000   \n",
       "25%     795.750000   334.500000   882.000000  1962.000000     0.000000   \n",
       "50%     991.500000   480.000000  1087.000000  1978.506164     0.000000   \n",
       "75%    1298.250000   576.000000  1391.250000  2001.000000   728.000000   \n",
       "max    6110.000000  1418.000000  4692.000000  2010.000000  2065.000000   \n",
       "\n",
       "         YearBuilt    GrLivArea  BedroomAbvGr   GarageCars  TotRmsAbvGrd  \n",
       "count  1460.000000  1460.000000   1460.000000  1460.000000   1460.000000  \n",
       "mean   1971.267808  1515.463699      2.866438     1.767123      6.517808  \n",
       "std      30.202904   525.480383      0.815778     0.747315      1.625393  \n",
       "min    1872.000000   334.000000      0.000000     0.000000      2.000000  \n",
       "25%    1954.000000  1129.500000      2.000000     1.000000      5.000000  \n",
       "50%    1973.000000  1464.000000      3.000000     2.000000      6.000000  \n",
       "75%    2000.000000  1776.750000      3.000000     2.000000      7.000000  \n",
       "max    2010.000000  5642.000000      8.000000     4.000000     14.000000  "
      ]
     },
     "execution_count": 879,
     "metadata": {},
     "output_type": "execute_result"
    }
   ],
   "source": [
    "exp_data.describe()"
   ]
  },
  {
   "cell_type": "code",
   "execution_count": 880,
   "id": "c83914da",
   "metadata": {},
   "outputs": [],
   "source": [
    "from datetime import datetime"
   ]
  },
  {
   "cell_type": "code",
   "execution_count": 881,
   "id": "da2dbf14",
   "metadata": {},
   "outputs": [
    {
     "name": "stderr",
     "output_type": "stream",
     "text": [
      "C:\\Users\\Hp\\AppData\\Local\\Temp\\ipykernel_5768\\4181640657.py:1: SettingWithCopyWarning: \n",
      "A value is trying to be set on a copy of a slice from a DataFrame.\n",
      "Try using .loc[row_indexer,col_indexer] = value instead\n",
      "\n",
      "See the caveats in the documentation: https://pandas.pydata.org/pandas-docs/stable/user_guide/indexing.html#returning-a-view-versus-a-copy\n",
      "  exp_data['HouseAge']=datetime.now().year-exp_data['YearBuilt']\n",
      "C:\\Users\\Hp\\AppData\\Local\\Temp\\ipykernel_5768\\4181640657.py:2: SettingWithCopyWarning: \n",
      "A value is trying to be set on a copy of a slice from a DataFrame.\n",
      "Try using .loc[row_indexer,col_indexer] = value instead\n",
      "\n",
      "See the caveats in the documentation: https://pandas.pydata.org/pandas-docs/stable/user_guide/indexing.html#returning-a-view-versus-a-copy\n",
      "  exp_data['GarageAge']=datetime.now().year-exp_data['GarageYrBlt']\n"
     ]
    }
   ],
   "source": [
    "exp_data['HouseAge']=datetime.now().year-exp_data['YearBuilt']\n",
    "exp_data['GarageAge']=datetime.now().year-exp_data['GarageYrBlt']\n"
   ]
  },
  {
   "cell_type": "code",
   "execution_count": 882,
   "id": "a2f26824",
   "metadata": {},
   "outputs": [
    {
     "data": {
      "text/html": [
       "<div>\n",
       "<style scoped>\n",
       "    .dataframe tbody tr th:only-of-type {\n",
       "        vertical-align: middle;\n",
       "    }\n",
       "\n",
       "    .dataframe tbody tr th {\n",
       "        vertical-align: top;\n",
       "    }\n",
       "\n",
       "    .dataframe thead th {\n",
       "        text-align: right;\n",
       "    }\n",
       "</style>\n",
       "<table border=\"1\" class=\"dataframe\">\n",
       "  <thead>\n",
       "    <tr style=\"text-align: right;\">\n",
       "      <th></th>\n",
       "      <th>TotalBsmtSF</th>\n",
       "      <th>GarageArea</th>\n",
       "      <th>1stFlrSF</th>\n",
       "      <th>GarageYrBlt</th>\n",
       "      <th>2ndFlrSF</th>\n",
       "      <th>YearBuilt</th>\n",
       "      <th>GrLivArea</th>\n",
       "      <th>BedroomAbvGr</th>\n",
       "      <th>GarageCars</th>\n",
       "      <th>TotRmsAbvGrd</th>\n",
       "      <th>HouseAge</th>\n",
       "      <th>GarageAge</th>\n",
       "    </tr>\n",
       "  </thead>\n",
       "  <tbody>\n",
       "    <tr>\n",
       "      <th>0</th>\n",
       "      <td>856</td>\n",
       "      <td>548</td>\n",
       "      <td>856</td>\n",
       "      <td>2003.0</td>\n",
       "      <td>854</td>\n",
       "      <td>2003</td>\n",
       "      <td>1710</td>\n",
       "      <td>3</td>\n",
       "      <td>2</td>\n",
       "      <td>8</td>\n",
       "      <td>19</td>\n",
       "      <td>19.0</td>\n",
       "    </tr>\n",
       "    <tr>\n",
       "      <th>1</th>\n",
       "      <td>1262</td>\n",
       "      <td>460</td>\n",
       "      <td>1262</td>\n",
       "      <td>1976.0</td>\n",
       "      <td>0</td>\n",
       "      <td>1976</td>\n",
       "      <td>1262</td>\n",
       "      <td>3</td>\n",
       "      <td>2</td>\n",
       "      <td>6</td>\n",
       "      <td>46</td>\n",
       "      <td>46.0</td>\n",
       "    </tr>\n",
       "    <tr>\n",
       "      <th>2</th>\n",
       "      <td>920</td>\n",
       "      <td>608</td>\n",
       "      <td>920</td>\n",
       "      <td>2001.0</td>\n",
       "      <td>866</td>\n",
       "      <td>2001</td>\n",
       "      <td>1786</td>\n",
       "      <td>3</td>\n",
       "      <td>2</td>\n",
       "      <td>6</td>\n",
       "      <td>21</td>\n",
       "      <td>21.0</td>\n",
       "    </tr>\n",
       "    <tr>\n",
       "      <th>3</th>\n",
       "      <td>756</td>\n",
       "      <td>642</td>\n",
       "      <td>961</td>\n",
       "      <td>1998.0</td>\n",
       "      <td>756</td>\n",
       "      <td>1915</td>\n",
       "      <td>1717</td>\n",
       "      <td>3</td>\n",
       "      <td>3</td>\n",
       "      <td>7</td>\n",
       "      <td>107</td>\n",
       "      <td>24.0</td>\n",
       "    </tr>\n",
       "    <tr>\n",
       "      <th>4</th>\n",
       "      <td>1145</td>\n",
       "      <td>836</td>\n",
       "      <td>1145</td>\n",
       "      <td>2000.0</td>\n",
       "      <td>1053</td>\n",
       "      <td>2000</td>\n",
       "      <td>2198</td>\n",
       "      <td>4</td>\n",
       "      <td>3</td>\n",
       "      <td>9</td>\n",
       "      <td>22</td>\n",
       "      <td>22.0</td>\n",
       "    </tr>\n",
       "  </tbody>\n",
       "</table>\n",
       "</div>"
      ],
      "text/plain": [
       "   TotalBsmtSF  GarageArea  1stFlrSF  GarageYrBlt  2ndFlrSF  YearBuilt  \\\n",
       "0          856         548       856       2003.0       854       2003   \n",
       "1         1262         460      1262       1976.0         0       1976   \n",
       "2          920         608       920       2001.0       866       2001   \n",
       "3          756         642       961       1998.0       756       1915   \n",
       "4         1145         836      1145       2000.0      1053       2000   \n",
       "\n",
       "   GrLivArea  BedroomAbvGr  GarageCars  TotRmsAbvGrd  HouseAge  GarageAge  \n",
       "0       1710             3           2             8        19       19.0  \n",
       "1       1262             3           2             6        46       46.0  \n",
       "2       1786             3           2             6        21       21.0  \n",
       "3       1717             3           3             7       107       24.0  \n",
       "4       2198             4           3             9        22       22.0  "
      ]
     },
     "execution_count": 882,
     "metadata": {},
     "output_type": "execute_result"
    }
   ],
   "source": [
    "exp_data.head()"
   ]
  },
  {
   "cell_type": "code",
   "execution_count": 883,
   "id": "ecd1e2a6",
   "metadata": {},
   "outputs": [
    {
     "name": "stderr",
     "output_type": "stream",
     "text": [
      "C:\\Users\\Hp\\AppData\\Local\\Temp\\ipykernel_5768\\3843674426.py:1: SettingWithCopyWarning: \n",
      "A value is trying to be set on a copy of a slice from a DataFrame\n",
      "\n",
      "See the caveats in the documentation: https://pandas.pydata.org/pandas-docs/stable/user_guide/indexing.html#returning-a-view-versus-a-copy\n",
      "  exp_data.drop('YearBuilt',axis=1,inplace=True)\n",
      "C:\\Users\\Hp\\AppData\\Local\\Temp\\ipykernel_5768\\3843674426.py:2: SettingWithCopyWarning: \n",
      "A value is trying to be set on a copy of a slice from a DataFrame\n",
      "\n",
      "See the caveats in the documentation: https://pandas.pydata.org/pandas-docs/stable/user_guide/indexing.html#returning-a-view-versus-a-copy\n",
      "  exp_data.drop('GarageYrBlt',axis=1,inplace=True)\n"
     ]
    }
   ],
   "source": [
    "exp_data.drop('YearBuilt',axis=1,inplace=True)\n",
    "exp_data.drop('GarageYrBlt',axis=1,inplace=True)"
   ]
  },
  {
   "cell_type": "code",
   "execution_count": 884,
   "id": "b25636de",
   "metadata": {},
   "outputs": [
    {
     "data": {
      "text/html": [
       "<div>\n",
       "<style scoped>\n",
       "    .dataframe tbody tr th:only-of-type {\n",
       "        vertical-align: middle;\n",
       "    }\n",
       "\n",
       "    .dataframe tbody tr th {\n",
       "        vertical-align: top;\n",
       "    }\n",
       "\n",
       "    .dataframe thead th {\n",
       "        text-align: right;\n",
       "    }\n",
       "</style>\n",
       "<table border=\"1\" class=\"dataframe\">\n",
       "  <thead>\n",
       "    <tr style=\"text-align: right;\">\n",
       "      <th></th>\n",
       "      <th>TotalBsmtSF</th>\n",
       "      <th>GarageArea</th>\n",
       "      <th>1stFlrSF</th>\n",
       "      <th>2ndFlrSF</th>\n",
       "      <th>GrLivArea</th>\n",
       "      <th>BedroomAbvGr</th>\n",
       "      <th>GarageCars</th>\n",
       "      <th>TotRmsAbvGrd</th>\n",
       "      <th>HouseAge</th>\n",
       "      <th>GarageAge</th>\n",
       "    </tr>\n",
       "  </thead>\n",
       "  <tbody>\n",
       "    <tr>\n",
       "      <th>TotalBsmtSF</th>\n",
       "      <td>1.000000</td>\n",
       "      <td>0.486665</td>\n",
       "      <td>0.819530</td>\n",
       "      <td>-0.174512</td>\n",
       "      <td>0.454868</td>\n",
       "      <td>0.050450</td>\n",
       "      <td>0.434585</td>\n",
       "      <td>0.285573</td>\n",
       "      <td>-0.391452</td>\n",
       "      <td>-0.311700</td>\n",
       "    </tr>\n",
       "    <tr>\n",
       "      <th>GarageArea</th>\n",
       "      <td>0.486665</td>\n",
       "      <td>1.000000</td>\n",
       "      <td>0.489782</td>\n",
       "      <td>0.138347</td>\n",
       "      <td>0.468997</td>\n",
       "      <td>0.065253</td>\n",
       "      <td>0.882475</td>\n",
       "      <td>0.337822</td>\n",
       "      <td>-0.478954</td>\n",
       "      <td>-0.476498</td>\n",
       "    </tr>\n",
       "    <tr>\n",
       "      <th>1stFlrSF</th>\n",
       "      <td>0.819530</td>\n",
       "      <td>0.489782</td>\n",
       "      <td>1.000000</td>\n",
       "      <td>-0.202646</td>\n",
       "      <td>0.566024</td>\n",
       "      <td>0.127401</td>\n",
       "      <td>0.439317</td>\n",
       "      <td>0.409516</td>\n",
       "      <td>-0.281986</td>\n",
       "      <td>-0.227127</td>\n",
       "    </tr>\n",
       "    <tr>\n",
       "      <th>2ndFlrSF</th>\n",
       "      <td>-0.174512</td>\n",
       "      <td>0.138347</td>\n",
       "      <td>-0.202646</td>\n",
       "      <td>1.000000</td>\n",
       "      <td>0.687501</td>\n",
       "      <td>0.502901</td>\n",
       "      <td>0.183926</td>\n",
       "      <td>0.616423</td>\n",
       "      <td>-0.010308</td>\n",
       "      <td>-0.069315</td>\n",
       "    </tr>\n",
       "    <tr>\n",
       "      <th>GrLivArea</th>\n",
       "      <td>0.454868</td>\n",
       "      <td>0.468997</td>\n",
       "      <td>0.566024</td>\n",
       "      <td>0.687501</td>\n",
       "      <td>1.000000</td>\n",
       "      <td>0.521270</td>\n",
       "      <td>0.467247</td>\n",
       "      <td>0.825489</td>\n",
       "      <td>-0.199010</td>\n",
       "      <td>-0.221977</td>\n",
       "    </tr>\n",
       "    <tr>\n",
       "      <th>BedroomAbvGr</th>\n",
       "      <td>0.050450</td>\n",
       "      <td>0.065253</td>\n",
       "      <td>0.127401</td>\n",
       "      <td>0.502901</td>\n",
       "      <td>0.521270</td>\n",
       "      <td>1.000000</td>\n",
       "      <td>0.086106</td>\n",
       "      <td>0.676620</td>\n",
       "      <td>0.070651</td>\n",
       "      <td>0.060256</td>\n",
       "    </tr>\n",
       "    <tr>\n",
       "      <th>GarageCars</th>\n",
       "      <td>0.434585</td>\n",
       "      <td>0.882475</td>\n",
       "      <td>0.439317</td>\n",
       "      <td>0.183926</td>\n",
       "      <td>0.467247</td>\n",
       "      <td>0.086106</td>\n",
       "      <td>1.000000</td>\n",
       "      <td>0.362289</td>\n",
       "      <td>-0.537850</td>\n",
       "      <td>-0.482534</td>\n",
       "    </tr>\n",
       "    <tr>\n",
       "      <th>TotRmsAbvGrd</th>\n",
       "      <td>0.285573</td>\n",
       "      <td>0.337822</td>\n",
       "      <td>0.409516</td>\n",
       "      <td>0.616423</td>\n",
       "      <td>0.825489</td>\n",
       "      <td>0.676620</td>\n",
       "      <td>0.362289</td>\n",
       "      <td>1.000000</td>\n",
       "      <td>-0.095589</td>\n",
       "      <td>-0.140791</td>\n",
       "    </tr>\n",
       "    <tr>\n",
       "      <th>HouseAge</th>\n",
       "      <td>-0.391452</td>\n",
       "      <td>-0.478954</td>\n",
       "      <td>-0.281986</td>\n",
       "      <td>-0.010308</td>\n",
       "      <td>-0.199010</td>\n",
       "      <td>0.070651</td>\n",
       "      <td>-0.537850</td>\n",
       "      <td>-0.095589</td>\n",
       "      <td>1.000000</td>\n",
       "      <td>0.780555</td>\n",
       "    </tr>\n",
       "    <tr>\n",
       "      <th>GarageAge</th>\n",
       "      <td>-0.311700</td>\n",
       "      <td>-0.476498</td>\n",
       "      <td>-0.227127</td>\n",
       "      <td>-0.069315</td>\n",
       "      <td>-0.221977</td>\n",
       "      <td>0.060256</td>\n",
       "      <td>-0.482534</td>\n",
       "      <td>-0.140791</td>\n",
       "      <td>0.780555</td>\n",
       "      <td>1.000000</td>\n",
       "    </tr>\n",
       "  </tbody>\n",
       "</table>\n",
       "</div>"
      ],
      "text/plain": [
       "              TotalBsmtSF  GarageArea  1stFlrSF  2ndFlrSF  GrLivArea  \\\n",
       "TotalBsmtSF      1.000000    0.486665  0.819530 -0.174512   0.454868   \n",
       "GarageArea       0.486665    1.000000  0.489782  0.138347   0.468997   \n",
       "1stFlrSF         0.819530    0.489782  1.000000 -0.202646   0.566024   \n",
       "2ndFlrSF        -0.174512    0.138347 -0.202646  1.000000   0.687501   \n",
       "GrLivArea        0.454868    0.468997  0.566024  0.687501   1.000000   \n",
       "BedroomAbvGr     0.050450    0.065253  0.127401  0.502901   0.521270   \n",
       "GarageCars       0.434585    0.882475  0.439317  0.183926   0.467247   \n",
       "TotRmsAbvGrd     0.285573    0.337822  0.409516  0.616423   0.825489   \n",
       "HouseAge        -0.391452   -0.478954 -0.281986 -0.010308  -0.199010   \n",
       "GarageAge       -0.311700   -0.476498 -0.227127 -0.069315  -0.221977   \n",
       "\n",
       "              BedroomAbvGr  GarageCars  TotRmsAbvGrd  HouseAge  GarageAge  \n",
       "TotalBsmtSF       0.050450    0.434585      0.285573 -0.391452  -0.311700  \n",
       "GarageArea        0.065253    0.882475      0.337822 -0.478954  -0.476498  \n",
       "1stFlrSF          0.127401    0.439317      0.409516 -0.281986  -0.227127  \n",
       "2ndFlrSF          0.502901    0.183926      0.616423 -0.010308  -0.069315  \n",
       "GrLivArea         0.521270    0.467247      0.825489 -0.199010  -0.221977  \n",
       "BedroomAbvGr      1.000000    0.086106      0.676620  0.070651   0.060256  \n",
       "GarageCars        0.086106    1.000000      0.362289 -0.537850  -0.482534  \n",
       "TotRmsAbvGrd      0.676620    0.362289      1.000000 -0.095589  -0.140791  \n",
       "HouseAge          0.070651   -0.537850     -0.095589  1.000000   0.780555  \n",
       "GarageAge         0.060256   -0.482534     -0.140791  0.780555   1.000000  "
      ]
     },
     "execution_count": 884,
     "metadata": {},
     "output_type": "execute_result"
    }
   ],
   "source": [
    "exp_data.corr()"
   ]
  },
  {
   "cell_type": "code",
   "execution_count": 885,
   "id": "ba1f80dd",
   "metadata": {},
   "outputs": [
    {
     "name": "stderr",
     "output_type": "stream",
     "text": [
      "C:\\Users\\Hp\\AppData\\Local\\Temp\\ipykernel_5768\\3532448585.py:1: SettingWithCopyWarning: \n",
      "A value is trying to be set on a copy of a slice from a DataFrame.\n",
      "Try using .loc[row_indexer,col_indexer] = value instead\n",
      "\n",
      "See the caveats in the documentation: https://pandas.pydata.org/pandas-docs/stable/user_guide/indexing.html#returning-a-view-versus-a-copy\n",
      "  exp_data['SalePrice']=main_data_labels\n"
     ]
    }
   ],
   "source": [
    "exp_data['SalePrice']=main_data_labels"
   ]
  },
  {
   "cell_type": "code",
   "execution_count": 886,
   "id": "ea3d54af",
   "metadata": {},
   "outputs": [],
   "source": [
    "from sklearn.model_selection import train_test_split\n",
    "X,y=train_test_split(exp_data,test_size=0.05)"
   ]
  },
  {
   "cell_type": "code",
   "execution_count": 887,
   "id": "b9d7e1fe",
   "metadata": {},
   "outputs": [
    {
     "name": "stdout",
     "output_type": "stream",
     "text": [
      "X 1387 and y 73\n"
     ]
    }
   ],
   "source": [
    "print (\"X {} and y {}\".format(len(X),len(y)))"
   ]
  },
  {
   "cell_type": "code",
   "execution_count": 888,
   "id": "60fae4b5",
   "metadata": {},
   "outputs": [],
   "source": [
    "X_data=X.drop('SalePrice',axis=1)"
   ]
  },
  {
   "cell_type": "code",
   "execution_count": 889,
   "id": "390326f9",
   "metadata": {},
   "outputs": [],
   "source": [
    "X_label=X['SalePrice']"
   ]
  },
  {
   "cell_type": "code",
   "execution_count": 890,
   "id": "91cf758a",
   "metadata": {},
   "outputs": [],
   "source": [
    "from sklearn.ensemble import RandomForestRegressor"
   ]
  },
  {
   "cell_type": "code",
   "execution_count": 891,
   "id": "767d158a",
   "metadata": {},
   "outputs": [],
   "source": [
    "model=RandomForestRegressor()"
   ]
  },
  {
   "cell_type": "code",
   "execution_count": 892,
   "id": "11879149",
   "metadata": {},
   "outputs": [
    {
     "data": {
      "text/html": [
       "<style>#sk-container-id-16 {color: black;background-color: white;}#sk-container-id-16 pre{padding: 0;}#sk-container-id-16 div.sk-toggleable {background-color: white;}#sk-container-id-16 label.sk-toggleable__label {cursor: pointer;display: block;width: 100%;margin-bottom: 0;padding: 0.3em;box-sizing: border-box;text-align: center;}#sk-container-id-16 label.sk-toggleable__label-arrow:before {content: \"▸\";float: left;margin-right: 0.25em;color: #696969;}#sk-container-id-16 label.sk-toggleable__label-arrow:hover:before {color: black;}#sk-container-id-16 div.sk-estimator:hover label.sk-toggleable__label-arrow:before {color: black;}#sk-container-id-16 div.sk-toggleable__content {max-height: 0;max-width: 0;overflow: hidden;text-align: left;background-color: #f0f8ff;}#sk-container-id-16 div.sk-toggleable__content pre {margin: 0.2em;color: black;border-radius: 0.25em;background-color: #f0f8ff;}#sk-container-id-16 input.sk-toggleable__control:checked~div.sk-toggleable__content {max-height: 200px;max-width: 100%;overflow: auto;}#sk-container-id-16 input.sk-toggleable__control:checked~label.sk-toggleable__label-arrow:before {content: \"▾\";}#sk-container-id-16 div.sk-estimator input.sk-toggleable__control:checked~label.sk-toggleable__label {background-color: #d4ebff;}#sk-container-id-16 div.sk-label input.sk-toggleable__control:checked~label.sk-toggleable__label {background-color: #d4ebff;}#sk-container-id-16 input.sk-hidden--visually {border: 0;clip: rect(1px 1px 1px 1px);clip: rect(1px, 1px, 1px, 1px);height: 1px;margin: -1px;overflow: hidden;padding: 0;position: absolute;width: 1px;}#sk-container-id-16 div.sk-estimator {font-family: monospace;background-color: #f0f8ff;border: 1px dotted black;border-radius: 0.25em;box-sizing: border-box;margin-bottom: 0.5em;}#sk-container-id-16 div.sk-estimator:hover {background-color: #d4ebff;}#sk-container-id-16 div.sk-parallel-item::after {content: \"\";width: 100%;border-bottom: 1px solid gray;flex-grow: 1;}#sk-container-id-16 div.sk-label:hover label.sk-toggleable__label {background-color: #d4ebff;}#sk-container-id-16 div.sk-serial::before {content: \"\";position: absolute;border-left: 1px solid gray;box-sizing: border-box;top: 0;bottom: 0;left: 50%;z-index: 0;}#sk-container-id-16 div.sk-serial {display: flex;flex-direction: column;align-items: center;background-color: white;padding-right: 0.2em;padding-left: 0.2em;position: relative;}#sk-container-id-16 div.sk-item {position: relative;z-index: 1;}#sk-container-id-16 div.sk-parallel {display: flex;align-items: stretch;justify-content: center;background-color: white;position: relative;}#sk-container-id-16 div.sk-item::before, #sk-container-id-16 div.sk-parallel-item::before {content: \"\";position: absolute;border-left: 1px solid gray;box-sizing: border-box;top: 0;bottom: 0;left: 50%;z-index: -1;}#sk-container-id-16 div.sk-parallel-item {display: flex;flex-direction: column;z-index: 1;position: relative;background-color: white;}#sk-container-id-16 div.sk-parallel-item:first-child::after {align-self: flex-end;width: 50%;}#sk-container-id-16 div.sk-parallel-item:last-child::after {align-self: flex-start;width: 50%;}#sk-container-id-16 div.sk-parallel-item:only-child::after {width: 0;}#sk-container-id-16 div.sk-dashed-wrapped {border: 1px dashed gray;margin: 0 0.4em 0.5em 0.4em;box-sizing: border-box;padding-bottom: 0.4em;background-color: white;}#sk-container-id-16 div.sk-label label {font-family: monospace;font-weight: bold;display: inline-block;line-height: 1.2em;}#sk-container-id-16 div.sk-label-container {text-align: center;}#sk-container-id-16 div.sk-container {/* jupyter's `normalize.less` sets `[hidden] { display: none; }` but bootstrap.min.css set `[hidden] { display: none !important; }` so we also need the `!important` here to be able to override the default hidden behavior on the sphinx rendered scikit-learn.org. See: https://github.com/scikit-learn/scikit-learn/issues/21755 */display: inline-block !important;position: relative;}#sk-container-id-16 div.sk-text-repr-fallback {display: none;}</style><div id=\"sk-container-id-16\" class=\"sk-top-container\"><div class=\"sk-text-repr-fallback\"><pre>RandomForestRegressor()</pre><b>In a Jupyter environment, please rerun this cell to show the HTML representation or trust the notebook. <br />On GitHub, the HTML representation is unable to render, please try loading this page with nbviewer.org.</b></div><div class=\"sk-container\" hidden><div class=\"sk-item\"><div class=\"sk-estimator sk-toggleable\"><input class=\"sk-toggleable__control sk-hidden--visually\" id=\"sk-estimator-id-16\" type=\"checkbox\" checked><label for=\"sk-estimator-id-16\" class=\"sk-toggleable__label sk-toggleable__label-arrow\">RandomForestRegressor</label><div class=\"sk-toggleable__content\"><pre>RandomForestRegressor()</pre></div></div></div></div></div>"
      ],
      "text/plain": [
       "RandomForestRegressor()"
      ]
     },
     "execution_count": 892,
     "metadata": {},
     "output_type": "execute_result"
    }
   ],
   "source": [
    "model.fit(X_data,X_label)"
   ]
  },
  {
   "cell_type": "code",
   "execution_count": 893,
   "id": "ca036ae4",
   "metadata": {},
   "outputs": [],
   "source": [
    "some_data=X_data[:10]"
   ]
  },
  {
   "cell_type": "code",
   "execution_count": 894,
   "id": "7f2057a0",
   "metadata": {},
   "outputs": [],
   "source": [
    "some_labels=X_label[:10]"
   ]
  },
  {
   "cell_type": "code",
   "execution_count": 895,
   "id": "b01216b0",
   "metadata": {},
   "outputs": [],
   "source": [
    "preds=model.predict(some_data)"
   ]
  },
  {
   "cell_type": "code",
   "execution_count": 896,
   "id": "313660da",
   "metadata": {},
   "outputs": [
    {
     "data": {
      "text/plain": [
       "array([179912.7 , 111877.55, 316845.37, 193412.56, 135629.87, 111404.5 ,\n",
       "       170307.5 , 210573.  , 156292.44,  97127.  ])"
      ]
     },
     "execution_count": 896,
     "metadata": {},
     "output_type": "execute_result"
    }
   ],
   "source": [
    "preds"
   ]
  },
  {
   "cell_type": "code",
   "execution_count": 897,
   "id": "c960a0cc",
   "metadata": {},
   "outputs": [],
   "source": [
    "from sklearn.metrics import mean_squared_error"
   ]
  },
  {
   "cell_type": "code",
   "execution_count": 898,
   "id": "9f889153",
   "metadata": {},
   "outputs": [
    {
     "data": {
      "text/plain": [
       "9610.498079462375"
      ]
     },
     "execution_count": 898,
     "metadata": {},
     "output_type": "execute_result"
    }
   ],
   "source": [
    "np.sqrt(mean_squared_error(some_labels,preds))"
   ]
  },
  {
   "cell_type": "code",
   "execution_count": 899,
   "id": "794d1cdb",
   "metadata": {},
   "outputs": [],
   "source": [
    "y_data=y.drop('SalePrice',axis=1)"
   ]
  },
  {
   "cell_type": "code",
   "execution_count": 900,
   "id": "97d480b3",
   "metadata": {},
   "outputs": [],
   "source": [
    "y_label=y['SalePrice']"
   ]
  },
  {
   "cell_type": "code",
   "execution_count": 901,
   "id": "3c8e9003",
   "metadata": {},
   "outputs": [],
   "source": [
    "predictions=model.predict(y_data)"
   ]
  },
  {
   "cell_type": "code",
   "execution_count": 902,
   "id": "5752cf6a",
   "metadata": {},
   "outputs": [
    {
     "data": {
      "text/plain": [
       "45276.42683891962"
      ]
     },
     "execution_count": 902,
     "metadata": {},
     "output_type": "execute_result"
    }
   ],
   "source": [
    "np.sqrt(mean_squared_error(y_label,predictions))"
   ]
  },
  {
   "cell_type": "code",
   "execution_count": null,
   "id": "3c4d6fbf",
   "metadata": {},
   "outputs": [],
   "source": []
  },
  {
   "cell_type": "code",
   "execution_count": 849,
   "id": "ada90427",
   "metadata": {},
   "outputs": [],
   "source": [
    "# submission = pd.DataFrame()\n",
    "# submission['Id'] = test_ids\n",
    "# submission['SalePrice'] = preds"
   ]
  },
  {
   "cell_type": "code",
   "execution_count": 850,
   "id": "8f9ae927",
   "metadata": {},
   "outputs": [],
   "source": [
    "# # Save the submission file\n",
    "# from pathlib import Path  \n",
    "# filepath = Path('submission.csv')  \n",
    "# filepath.parent.mkdir(parents=True, exist_ok=True)\n",
    "# submission.to_csv('submission.csv', sep=',', index=False)"
   ]
  },
  {
   "cell_type": "code",
   "execution_count": 851,
   "id": "55a8b58f",
   "metadata": {},
   "outputs": [],
   "source": [
    "test_data=pd.read_csv(\"test.csv\")\n",
    "Test_High_Correlation_Columns=High_Correlation_Columns.copy()"
   ]
  },
  {
   "cell_type": "code",
   "execution_count": 852,
   "id": "aea4fba9",
   "metadata": {},
   "outputs": [],
   "source": [
    "test_ids=test_data['Id']"
   ]
  },
  {
   "cell_type": "code",
   "execution_count": 853,
   "id": "bd018946",
   "metadata": {},
   "outputs": [],
   "source": [
    "\n",
    "test_exp_data=test_data[list(Test_High_Correlation_Columns)]\n"
   ]
  },
  {
   "cell_type": "code",
   "execution_count": 854,
   "id": "d229f6e5",
   "metadata": {},
   "outputs": [
    {
     "data": {
      "text/plain": [
       "Index(['TotalBsmtSF', 'GarageArea', '1stFlrSF', '2ndFlrSF', 'GrLivArea',\n",
       "       'BedroomAbvGr', 'GarageCars', 'TotRmsAbvGrd', 'HouseAge', 'GarageAge',\n",
       "       'SalePrice'],\n",
       "      dtype='object')"
      ]
     },
     "execution_count": 854,
     "metadata": {},
     "output_type": "execute_result"
    }
   ],
   "source": [
    "exp_data.columns"
   ]
  },
  {
   "cell_type": "code",
   "execution_count": 855,
   "id": "c66a8fc2",
   "metadata": {},
   "outputs": [
    {
     "name": "stderr",
     "output_type": "stream",
     "text": [
      "C:\\Users\\Hp\\AppData\\Local\\Temp\\ipykernel_5768\\1495760842.py:1: SettingWithCopyWarning: \n",
      "A value is trying to be set on a copy of a slice from a DataFrame.\n",
      "Try using .loc[row_indexer,col_indexer] = value instead\n",
      "\n",
      "See the caveats in the documentation: https://pandas.pydata.org/pandas-docs/stable/user_guide/indexing.html#returning-a-view-versus-a-copy\n",
      "  test_exp_data['HouseAge']=datetime.now().year-test_exp_data['YearBuilt']\n",
      "C:\\Users\\Hp\\AppData\\Local\\Temp\\ipykernel_5768\\1495760842.py:2: SettingWithCopyWarning: \n",
      "A value is trying to be set on a copy of a slice from a DataFrame.\n",
      "Try using .loc[row_indexer,col_indexer] = value instead\n",
      "\n",
      "See the caveats in the documentation: https://pandas.pydata.org/pandas-docs/stable/user_guide/indexing.html#returning-a-view-versus-a-copy\n",
      "  test_exp_data['GarageAge']=datetime.now().year-test_exp_data['GarageYrBlt']\n",
      "C:\\Users\\Hp\\AppData\\Local\\Temp\\ipykernel_5768\\1495760842.py:3: SettingWithCopyWarning: \n",
      "A value is trying to be set on a copy of a slice from a DataFrame\n",
      "\n",
      "See the caveats in the documentation: https://pandas.pydata.org/pandas-docs/stable/user_guide/indexing.html#returning-a-view-versus-a-copy\n",
      "  test_exp_data.drop('YearBuilt',axis=1,inplace=True)\n",
      "C:\\Users\\Hp\\AppData\\Local\\Temp\\ipykernel_5768\\1495760842.py:4: SettingWithCopyWarning: \n",
      "A value is trying to be set on a copy of a slice from a DataFrame\n",
      "\n",
      "See the caveats in the documentation: https://pandas.pydata.org/pandas-docs/stable/user_guide/indexing.html#returning-a-view-versus-a-copy\n",
      "  test_exp_data.drop('GarageYrBlt',axis=1,inplace=True)\n"
     ]
    }
   ],
   "source": [
    "test_exp_data['HouseAge']=datetime.now().year-test_exp_data['YearBuilt']\n",
    "test_exp_data['GarageAge']=datetime.now().year-test_exp_data['GarageYrBlt']\n",
    "test_exp_data.drop('YearBuilt',axis=1,inplace=True)\n",
    "test_exp_data.drop('GarageYrBlt',axis=1,inplace=True)"
   ]
  },
  {
   "cell_type": "code",
   "execution_count": 856,
   "id": "5923d0bb",
   "metadata": {},
   "outputs": [
    {
     "name": "stderr",
     "output_type": "stream",
     "text": [
      "C:\\Users\\Hp\\AppData\\Local\\Temp\\ipykernel_5768\\979209537.py:3: SettingWithCopyWarning: \n",
      "A value is trying to be set on a copy of a slice from a DataFrame\n",
      "\n",
      "See the caveats in the documentation: https://pandas.pydata.org/pandas-docs/stable/user_guide/indexing.html#returning-a-view-versus-a-copy\n",
      "  test_exp_data[i].fillna(exp_data[i].mean(),inplace=True)\n"
     ]
    }
   ],
   "source": [
    "for i , j in zip (test_exp_data.columns,test_exp_data.isnull().sum()):\n",
    "    if j>0:\n",
    "        test_exp_data[i].fillna(exp_data[i].mean(),inplace=True)"
   ]
  },
  {
   "cell_type": "code",
   "execution_count": 857,
   "id": "483c0796",
   "metadata": {},
   "outputs": [],
   "source": [
    "pred=model.predict(test_exp_data)"
   ]
  },
  {
   "cell_type": "code",
   "execution_count": 858,
   "id": "48b383ca",
   "metadata": {},
   "outputs": [],
   "source": [
    "submission = pd.DataFrame()\n",
    "submission['Id'] = test_ids\n",
    "submission['SalePrice'] = pred"
   ]
  },
  {
   "cell_type": "code",
   "execution_count": 859,
   "id": "fef7126d",
   "metadata": {},
   "outputs": [],
   "source": [
    "# Save the submission file\n",
    "from pathlib import Path  \n",
    "filepath = Path('submission.csv')  \n",
    "filepath.parent.mkdir(parents=True, exist_ok=True)\n",
    "submission.to_csv('submission.csv', sep=',', index=False)"
   ]
  },
  {
   "cell_type": "code",
   "execution_count": null,
   "id": "ff50e480",
   "metadata": {},
   "outputs": [],
   "source": []
  }
 ],
 "metadata": {
  "kernelspec": {
   "display_name": "Python 3",
   "language": "python",
   "name": "python3"
  },
  "language_info": {
   "codemirror_mode": {
    "name": "ipython",
    "version": 3
   },
   "file_extension": ".py",
   "mimetype": "text/x-python",
   "name": "python",
   "nbconvert_exporter": "python",
   "pygments_lexer": "ipython3",
   "version": "3.8.13"
  }
 },
 "nbformat": 4,
 "nbformat_minor": 5
}
